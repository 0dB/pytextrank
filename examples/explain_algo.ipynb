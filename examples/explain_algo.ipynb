{
 "cells": [
  {
   "cell_type": "code",
   "execution_count": null,
   "metadata": {},
   "outputs": [],
   "source": [
    "# for use in tutorial and development; do not include this `sys.path` change in production:\n",
    "import sys ; sys.path.insert(0, \"../\")"
   ]
  },
  {
   "cell_type": "markdown",
   "metadata": {},
   "source": [
    "# Explain PyTextRank: the algorithm\n",
    "\n",
    "Let's look at the *TextRank* algorithm used to build a graph from a raw text, and then from that extract the top-ranked phrases. This work is based on \n",
    "[\"TextRank: Bringing Order into Text\"](http://web.eecs.umich.edu/~mihalcea/papers/mihalcea.emnlp04.pdf),\n",
    "Rada Mihalcea, Paul Tarau, _Empirical Methods in Natural Language Processing_ (2004)."
   ]
  },
  {
   "cell_type": "markdown",
   "metadata": {},
   "source": [
    "---\n",
    "First we perform some basic housekeeping for Jupyter, then load `spaCy` with a language model for English ..."
   ]
  },
  {
   "cell_type": "code",
   "execution_count": 2,
   "metadata": {},
   "outputs": [],
   "source": [
    "from icecream import ic\n",
    "import warnings\n",
    "warnings.filterwarnings(\"ignore\")"
   ]
  },
  {
   "cell_type": "code",
   "execution_count": 3,
   "metadata": {},
   "outputs": [],
   "source": [
    "import spacy\n",
    "nlp = spacy.load(\"en_core_web_sm\")"
   ]
  },
  {
   "cell_type": "markdown",
   "metadata": {},
   "source": [
    "Now, to get started, we'll create some text to use."
   ]
  },
  {
   "cell_type": "code",
   "execution_count": 4,
   "metadata": {},
   "outputs": [],
   "source": [
    "#text = \"When Ada was twelve years old, this future 'Lady Fairy', as Charles Babbage affectionately called her, decided she wanted to fly. Ada Byron went about the project methodically, thoughtfully, with imagination and passion. Her first step, in February 1828, was to construct wings. She investigated different material and sizes. She considered various materials for the wings: paper, oilsilk, wires, and feathers. She examined the anatomy of birds to determine the right proportion between the wings and the body. She decided to write a book, Flyology, illustrating, with plates, some of her findings. She decided what equipment she would need; for example, a compass, to 'cut across the country by the most direct road', so that she could surmount mountains, rivers, and valleys. Her final step was to integrate steam with the 'art of flying.\"\n",
    "\n",
    "text = \"Compatibility of systems of linear constraints over the set of natural numbers. Criteria of compatibility of a system of linear Diophantine equations, strict inequations, and nonstrict inequations are considered. Upper bounds for components of a minimal set of solutions and algorithms of construction of minimal generating sets of solutions for all types of systems are given. These criteria and the corresponding algorithms for constructing a minimal supporting set of solutions can be used in solving all the considered types systems and systems of mixed types.\"\n",
    "\n",
    "doc = nlp(text)"
   ]
  },
  {
   "cell_type": "markdown",
   "metadata": {},
   "source": [
    "How many sentences are in the parsed document and where are their boundaries?"
   ]
  },
  {
   "cell_type": "code",
   "execution_count": 5,
   "metadata": {},
   "outputs": [
    {
     "name": "stderr",
     "output_type": "stream",
     "text": [
      "ic| sent.start: 0, sent.end: 13\n",
      "ic| sent.start: 13, sent.end: 33\n",
      "ic| sent.start: 33, sent.end: 61\n",
      "ic| sent.start: 61, sent.end: 91\n"
     ]
    }
   ],
   "source": [
    "for sent in doc.sents:\n",
    "    ic(sent.start, sent.end)"
   ]
  },
  {
   "cell_type": "markdown",
   "metadata": {},
   "source": [
    "What are the raw _noun chunks_ in the parsed document?"
   ]
  },
  {
   "cell_type": "code",
   "execution_count": 6,
   "metadata": {
    "scrolled": true
   },
   "outputs": [
    {
     "name": "stderr",
     "output_type": "stream",
     "text": [
      "ic| chunk.text: 'Compatibility'\n",
      "ic| chunk.text: 'systems'\n",
      "ic| chunk.text: 'linear constraints'\n",
      "ic| chunk.text: 'the set'\n",
      "ic| chunk.text: 'natural numbers'\n",
      "ic| chunk.text: 'Criteria'\n",
      "ic| chunk.text: 'compatibility'\n",
      "ic| chunk.text: 'a system'\n",
      "ic| chunk.text: 'linear Diophantine equations'\n",
      "ic| chunk.text: 'strict inequations'\n",
      "ic| chunk.text: 'nonstrict inequations'\n",
      "ic| chunk.text: 'Upper bounds'\n",
      "ic| chunk.text: 'components'\n",
      "ic| chunk.text: 'a minimal set'\n",
      "ic| chunk.text: 'solutions'\n",
      "ic| chunk.text: 'algorithms'\n",
      "ic| chunk.text: 'construction'\n",
      "ic| chunk.text: 'minimal generating sets'\n",
      "ic| chunk.text: 'solutions'\n",
      "ic| chunk.text: 'all types'\n",
      "ic| chunk.text: 'systems'\n",
      "ic| chunk.text: 'These criteria'\n",
      "ic| chunk.text: 'the corresponding algorithms'\n",
      "ic| chunk.text: 'a minimal supporting set'\n",
      "ic| chunk.text: 'solutions'\n",
      "ic| chunk.text: 'all the considered types systems'\n",
      "ic| chunk.text: 'systems'\n",
      "ic| chunk.text: 'mixed types'\n"
     ]
    }
   ],
   "source": [
    "for chunk in doc.noun_chunks:\n",
    "    ic(chunk.text)"
   ]
  },
  {
   "cell_type": "markdown",
   "metadata": {},
   "source": [
    "Also, does `spaCy` detect any _named entities_? (probably not, given this example text input)"
   ]
  },
  {
   "cell_type": "code",
   "execution_count": 7,
   "metadata": {},
   "outputs": [],
   "source": [
    "for ent in doc.ents:\n",
    "    ic(ent.text, ent.label_, ent.start, ent.end)"
   ]
  },
  {
   "cell_type": "markdown",
   "metadata": {},
   "source": [
    "Given those details about the parsed document, next we use [NetworkX](https://networkx.github.io/) to manage an in-memory graph..."
   ]
  },
  {
   "cell_type": "code",
   "execution_count": 8,
   "metadata": {},
   "outputs": [],
   "source": [
    "import networkx as nx\n",
    "\n",
    "def increment_edge (graph, node0, node1):\n",
    "    print(\"link {} {}\".format(node0, node1))\n",
    "    \n",
    "    if graph.has_edge(node0, node1):\n",
    "        graph[node0][node1][\"weight\"] += 1.0\n",
    "    else:\n",
    "        graph.add_edge(node0, node1, weight=1.0)"
   ]
  },
  {
   "cell_type": "markdown",
   "metadata": {},
   "source": [
    "Then construct a graph, sentence by sentence, based on the [spaCy part-of-speech tags](https://spacy.io/api/annotation#pos-en) tags:"
   ]
  },
  {
   "cell_type": "code",
   "execution_count": 9,
   "metadata": {},
   "outputs": [],
   "source": [
    "POS_KEPT = [\"ADJ\", \"NOUN\", \"PROPN\", \"VERB\"]\n",
    "\n",
    "def link_sentence (doc, sent, lemma_graph, seen_lemma):\n",
    "    visited_tokens = []\n",
    "    visited_nodes = []\n",
    "\n",
    "    for i in range(sent.start, sent.end):\n",
    "        token = doc[i]\n",
    "\n",
    "        if token.pos_ in POS_KEPT:\n",
    "            key = (token.lemma_, token.pos_)\n",
    "\n",
    "            if key not in seen_lemma:\n",
    "                seen_lemma[key] = set([token.i])\n",
    "            else:\n",
    "                seen_lemma[key].add(token.i)\n",
    "\n",
    "            node_id = list(seen_lemma.keys()).index(key)\n",
    "\n",
    "            if not node_id in lemma_graph:\n",
    "                lemma_graph.add_node(node_id)\n",
    "\n",
    "            ic(\"visit {} {}\".format(visited_tokens, visited_nodes))\n",
    "            ic(\"range {}\".format(list(range(len(visited_tokens) - 1, -1, -1))))\n",
    "            \n",
    "            for prev_token in range(len(visited_tokens) - 1, -1, -1):\n",
    "                ic(\"prev_tok {} {}\".format(prev_token, (token.i - visited_tokens[prev_token])))\n",
    "                \n",
    "                if (token.i - visited_tokens[prev_token]) <= 3:\n",
    "                    increment_edge(lemma_graph, node_id, visited_nodes[prev_token])\n",
    "                else:\n",
    "                    break\n",
    "\n",
    "            ic(token.i, token.text, token.lemma_, token.pos_, visited_tokens, visited_nodes)\n",
    "\n",
    "            visited_tokens.append(token.i)\n",
    "            visited_nodes.append(node_id)"
   ]
  },
  {
   "cell_type": "markdown",
   "metadata": {},
   "source": [
    "Now iterate through the sentences to construct the lemma graph..."
   ]
  },
  {
   "cell_type": "code",
   "execution_count": 10,
   "metadata": {
    "scrolled": true
   },
   "outputs": [
    {
     "name": "stderr",
     "output_type": "stream",
     "text": [
      "ic| \"visit {} {}\".format(visited_tokens, visited_nodes): 'visit [] []'\n",
      "ic| \"range {}\".format(list(range(len(visited_tokens) - 1, -1, -1))): 'range []'\n",
      "ic| token.i: 0\n",
      "    token.text: 'Compatibility'\n",
      "    token.lemma_: 'compatibility'\n",
      "    token.pos_: 'NOUN'\n",
      "    visited_tokens: []\n",
      "    visited_nodes: []\n",
      "ic| \"visit {} {}\".format(visited_tokens, visited_nodes): 'visit [0] [0]'\n",
      "ic| \"range {}\".format(list(range(len(visited_tokens) - 1, -1, -1))): 'range [0]'\n",
      "ic| \"prev_tok {} {}\".format(prev_token, (token.i - visited_tokens[prev_token])): 'prev_tok 0 2'\n",
      "ic| token.i: 2\n",
      "    token.text: 'systems'\n",
      "    token.lemma_: 'system'\n",
      "    token.pos_: 'NOUN'\n",
      "    visited_tokens: [0]\n",
      "    visited_nodes: [0]\n",
      "ic| \"visit {} {}\".format(visited_tokens, visited_nodes): 'visit [0, 2] [0, 1]'\n",
      "ic| \"range {}\".format(list(range(len(visited_tokens) - 1, -1, -1))): 'range [1, 0]'\n",
      "ic| \"prev_tok {} {}\".format(prev_token, (token.i - visited_tokens[prev_token])): '"
     ]
    },
    {
     "name": "stdout",
     "output_type": "stream",
     "text": [
      "link 1 0\n"
     ]
    },
    {
     "name": "stderr",
     "output_type": "stream",
     "text": [
      "prev_tok 1 2'\n",
      "ic| \"prev_tok {} {}\".format(prev_token, (token.i - visited_tokens[prev_token])): 'prev_tok 0 4'\n",
      "ic| token.i: 4\n",
      "    token.text: 'linear'\n",
      "    token.lemma_: 'linear'\n",
      "    token.pos_: 'ADJ'\n",
      "    visited_tokens: [0, 2]\n",
      "    visited_nodes: [0, 1]\n",
      "ic| \"visit {} {}\".format(visited_tokens, visited_nodes): 'visit [0, 2, 4] [0, 1, 2]'\n",
      "ic| \"range {}\".format(list(range(len(visited_tokens) - 1, -1, -1))): 'range [2, 1, 0]'\n",
      "ic| \"prev_tok {} {}\".format(prev_token, (token.i - visited_tokens[prev_token])):"
     ]
    },
    {
     "name": "stdout",
     "output_type": "stream",
     "text": [
      "link 2 1\n"
     ]
    },
    {
     "name": "stderr",
     "output_type": "stream",
     "text": [
      " 'prev_tok 2 1'\n",
      "ic| \"prev_tok {} {}\".format(prev_token, (token.i - visited_tokens[prev_token])): 'prev_tok 1 3'\n",
      "ic| \"prev_tok {} {}\".format(prev_token, (token.i - visited_tokens[prev_token])): 'prev_tok 0 5'\n",
      "ic| token.i: 5\n",
      "    token.text: 'constraints'\n",
      "    token.lemma_: 'constraint'\n",
      "    token.pos_: 'NOUN'\n",
      "    visited_tokens: [0, 2, 4]\n",
      "    visited_nodes: [0, 1, 2]\n",
      "ic| \"visit {} {}\".format(visited_tokens, visited_nodes): 'visit [0, 2, 4, 5] [0, 1, 2, 3]'\n",
      "ic| \"range {}\".format(list(range(len(visited_tokens) - 1, -1, "
     ]
    },
    {
     "name": "stdout",
     "output_type": "stream",
     "text": [
      "link 3 2\n",
      "link 3 1\n"
     ]
    },
    {
     "name": "stderr",
     "output_type": "stream",
     "text": [
      "-1))): 'range [3, 2, 1, 0]'\n",
      "ic| \"prev_tok {} {}\".format(prev_token, (token.i - visited_tokens[prev_token])): 'prev_tok 3 3'\n",
      "ic| \"prev_tok {} {}\".format(prev_token, (token.i - visited_tokens[prev_token])): 'prev_tok 2 4'\n",
      "ic| token.i: 8\n",
      "    token.text: 'set'\n",
      "    token.lemma_: 'set'\n",
      "    token.pos_: 'NOUN'\n",
      "    visited_tokens: [0, 2, 4, 5]\n",
      "    visited_nodes: [0, 1, 2, 3]\n",
      "ic| \"visit {} {}\".format(visited_tokens, visited_nodes): 'visit [0, 2, 4, 5, 8] [0, 1, 2, 3, 4]'\n",
      "ic| \"range {}\".format(list(range(len(visited_tokens) - 1, -1, -1))): 'range [4, 3, 2, 1, 0]'\n",
      "ic| \"prev_tok {} {}\".format(prev_token, (token.i - visited_tokens[prev_token])): '"
     ]
    },
    {
     "name": "stdout",
     "output_type": "stream",
     "text": [
      "link 4 3\n"
     ]
    },
    {
     "name": "stderr",
     "output_type": "stream",
     "text": [
      "prev_tok 4 2'\n",
      "ic| \"prev_tok {} {}\".format(prev_token, (token.i - visited_tokens[prev_token])): 'prev_tok 3 5'\n",
      "ic| token.i: 10\n",
      "    token.text: 'natural'\n",
      "    token.lemma_: 'natural'\n",
      "    token.pos_: 'ADJ'\n",
      "    visited_tokens: [0, 2, 4, 5, 8]\n",
      "    visited_nodes: [0, 1, 2, 3, 4]\n",
      "ic| \"visit {} {}\".format(visited_tokens, visited_nodes): 'visit [0, 2, 4, 5, 8, 10] [0, 1, 2, 3, 4, 5]'\n",
      "ic| \"range {}\".format(list(range(len(visited_tokens) - 1, -1, -1))): 'range [5, 4, 3, 2, 1, 0]'\n",
      "ic| \"prev_tok {} {}\".format(prev_token, (token."
     ]
    },
    {
     "name": "stdout",
     "output_type": "stream",
     "text": [
      "link 5 4\n"
     ]
    },
    {
     "name": "stderr",
     "output_type": "stream",
     "text": [
      "i - visited_tokens[prev_token])): 'prev_tok 5 1'\n",
      "ic| \"prev_tok {} {}\".format(prev_token, (token.i - visited_tokens[prev_token])): 'prev_tok 4 3'\n",
      "ic| \"prev_tok {} {}\".format(prev_token, (token.i - visited_tokens[prev_token])): 'prev_tok 3 6'\n",
      "ic| token.i: 11\n",
      "    token.text: 'numbers'\n",
      "    token.lemma_: 'number'\n",
      "    token.pos_: 'NOUN'\n",
      "    visited_tokens: [0, 2, 4, 5, 8, 10]\n",
      "    visited_nodes: [0, 1, 2, 3, 4, 5]\n",
      "ic| \"visit {} {}\".format(visited_tokens, visited_nodes): 'visit [] []'\n"
     ]
    },
    {
     "name": "stdout",
     "output_type": "stream",
     "text": [
      "link 6 5\n",
      "link 6 4\n"
     ]
    },
    {
     "name": "stderr",
     "output_type": "stream",
     "text": [
      "ic| \"range {}\".format(list(range(len(visited_tokens) - 1, -1, -1))): 'range []'\n",
      "ic| token.i: 13\n",
      "    token.text: 'Criteria'\n",
      "    token.lemma_: 'criterion'\n",
      "    token.pos_: 'NOUN'\n",
      "    visited_tokens: []\n",
      "    visited_nodes: []\n",
      "ic| \"visit {} {}\".format(visited_tokens, visited_nodes): 'visit [13] [7]'\n",
      "ic| \"range {}\".format(list(range(len(visited_tokens) - 1, -1, -1))): 'range [0]'\n",
      "ic| \"prev_tok {} {}\".format(prev_token, (token.i - visited_tokens[prev_token])): 'prev_tok 0 2'\n",
      "ic| token.i: 15\n",
      "    token.text: 'compatibility'\n",
      "    token.lemma_: 'compatibility'\n",
      "    token.pos_: 'NOUN'\n",
      "    visited_tokens: [13]\n",
      "    visited_nodes: [7]\n",
      "ic| \"visit {} {}\".format(visited_tokens, visited_nodes): 'visit [13, 15] [7, 0]'\n",
      "ic| \"range {}\".format(list(range(len(visited_tokens) - 1, -1, -1))): 'range [1, 0]'\n",
      "ic| \"prev_tok {} {}\".format(prev_token, (token.i - visited_tokens[prev_token])): 'prev_tok 1 3'\n",
      "ic| \"prev_tok {} {}\".format(prev_token, (token.i - visited_tokens[prev_token]))"
     ]
    },
    {
     "name": "stdout",
     "output_type": "stream",
     "text": [
      "link 0 7\n",
      "link 1 0\n"
     ]
    },
    {
     "name": "stderr",
     "output_type": "stream",
     "text": [
      ": 'prev_tok 0 5'\n",
      "ic| token.i: 18\n",
      "    token.text: 'system'\n",
      "    token.lemma_: 'system'\n",
      "    token.pos_: 'NOUN'\n",
      "    visited_tokens: [13, 15]\n",
      "    visited_nodes: [7, 0]\n",
      "ic| \"visit {} {}\".format(visited_tokens, visited_nodes): 'visit [13, 15, 18] [7, 0, 1]'\n",
      "ic| \"range {}\".format(list(range(len(visited_tokens) - 1, -1, -1))): 'range [2, 1, 0]'\n",
      "ic| \"prev_tok {} {}\".format(prev_token, (token.i - visited_tokens[prev_token])): 'prev_tok 2 2'\n",
      "ic| \"prev_tok {} {}\".format(prev_token, (token.i - visited_tokens[prev_token])): 'prev_tok 1 5'\n",
      "ic| token.i: 20\n",
      "    token.text: 'linear'\n",
      "    token.lemma_: 'linear'\n",
      "    token.pos_: 'ADJ'\n",
      "    visited_tokens: [13, 15, 18]\n",
      "    visited_nodes: [7, 0, 1]\n",
      "ic| \"visit {} {}\".format(visited_tokens, visited_nodes): 'visit [13, 15, 18, 20] [7, 0, 1, 2]'\n",
      "ic| \"range {}\".format(list(range(len(visited_tokens) - 1, -1, -1))): 'range [3, 2, 1, 0]'\n",
      "ic| \"prev_tok {} {}\".format(prev_token, (token.i - visited_tokens[prev_token]"
     ]
    },
    {
     "name": "stdout",
     "output_type": "stream",
     "text": [
      "link 2 1\n"
     ]
    },
    {
     "name": "stderr",
     "output_type": "stream",
     "text": [
      ")): 'prev_tok 3 1'\n",
      "ic| \"prev_tok {} {}\".format(prev_token, (token.i - visited_tokens[prev_token])): 'prev_tok 2 3'\n",
      "ic| \"prev_tok {} {}\".format(prev_token, (token.i - visited_tokens[prev_token])): 'prev_tok 1 6'\n",
      "ic| token.i: 21\n",
      "    token.text: 'Diophantine'\n",
      "    token.lemma_: 'Diophantine'\n",
      "    token.pos_: 'PROPN'\n",
      "    visited_tokens: [13, 15, 18, 20]\n",
      "    visited_nodes: [7, 0, 1, 2]\n",
      "ic| \"visit {} {}\".format(visited_tokens, visited_nodes): 'visit [13, 15, 18, 20, 21] [7, 0, 1, 2, 8]'\n",
      "ic| \"range {}"
     ]
    },
    {
     "name": "stdout",
     "output_type": "stream",
     "text": [
      "link 8 2\n",
      "link 8 1\n"
     ]
    },
    {
     "name": "stderr",
     "output_type": "stream",
     "text": [
      "\".format(list(range(len(visited_tokens) - 1, -1, -1))): 'range [4, 3, 2, 1, 0]'\n",
      "ic| \"prev_tok {} {}\".format(prev_token, (token.i - visited_tokens[prev_token])): 'prev_tok 4 1'\n",
      "ic| \"prev_tok {} {}\".format(prev_token, (token.i - visited_tokens[prev_token])): 'prev_tok 3 2'\n",
      "ic| \"prev_tok {} {}\".format(prev_token, (token.i - visited_tokens[prev_token])): 'prev_tok 2 4'\n",
      "ic| token.i: 22\n",
      "    token.text: 'equations'\n",
      "    token.lemma_: 'equation'\n",
      "    token.pos_: 'NOUN'\n",
      "    visited_tokens: [13, 15, 18, 20, 21]\n",
      "    visited_nodes: [7, 0, 1, 2, 8]\n",
      "ic| \"visit {} {}\".format(visited_tokens, visited_nodes): 'visit [13, 15, 18, 20, 21, 22] [7, 0, 1, 2, 8, 9]'\n",
      "ic| \"range {}\".format(list(range(len(visited_tokens) - 1, -1, "
     ]
    },
    {
     "name": "stdout",
     "output_type": "stream",
     "text": [
      "link 9 8\n",
      "link 9 2\n"
     ]
    },
    {
     "name": "stderr",
     "output_type": "stream",
     "text": [
      "-1))): 'range [5, 4, 3, 2, 1, 0]'\n",
      "ic| \"prev_tok {} {}\".format(prev_token, (token.i - visited_tokens[prev_token])): 'prev_tok 5 2'\n",
      "ic| \"prev_tok {} {}\".format(prev_token, (token.i - visited_tokens[prev_token])): 'prev_tok 4 3'\n",
      "ic| \"prev_tok {} {}\".format(prev_token, (token.i - visited_tokens[prev_token])): 'prev_tok 3 4'\n",
      "ic| token.i: 24\n",
      "    token.text: 'strict'\n",
      "    token.lemma_: 'strict'\n",
      "    token.pos_: 'ADJ'\n",
      "    visited_tokens: [13, 15, 18, 20, 21, 22]\n",
      "    visited_nodes: [7, 0, 1, 2, 8, 9]\n",
      "ic| \"visit {} {}\".format(visited_tokens, visited_nodes): '"
     ]
    },
    {
     "name": "stdout",
     "output_type": "stream",
     "text": [
      "link 10 9\n",
      "link 10 8\n"
     ]
    },
    {
     "name": "stderr",
     "output_type": "stream",
     "text": [
      "visit [13, 15, 18, 20, 21, 22, 24] [7, 0, 1, 2, 8, 9, 10]'\n",
      "ic| \"range {}\".format(list(range(len(visited_tokens) - 1, -1, -1))): 'range [6, 5, 4, 3, 2, 1, 0]'\n",
      "ic| \"prev_tok {} {}\".format(prev_token, (token.i - visited_tokens[prev_token])): 'prev_tok 6 1'\n",
      "ic| \"prev_tok {} {}\".format(prev_token, (token.i - visited_tokens[prev_token])): 'prev_tok 5 3'\n",
      "ic| \"prev_tok {} {}\".format(prev_token, (token.i - visited_tokens[prev_token])): 'prev_tok 4 4'\n",
      "ic| token.i: 25\n",
      "    token.text: 'inequations'\n",
      "    token.lemma_: 'inequation'\n",
      "    token.pos_: 'NOUN'\n",
      "    visited_tokens: [13, 15, 18, 20, 21, 22, 24]\n",
      "    visited_nodes: [7, 0, 1, 2, 8, 9, 10]\n",
      "ic| \"visit {} {}\".format(visited_tokens, visited_nodes): 'visit [13, 15, 18, 20, 21, 22, 24, 25] [7, 0, 1, 2, 8, 9, 10, 11]'\n",
      "ic| \"range {}\".format(list(range("
     ]
    },
    {
     "name": "stdout",
     "output_type": "stream",
     "text": [
      "link 11 10\n",
      "link 11 9\n"
     ]
    },
    {
     "name": "stderr",
     "output_type": "stream",
     "text": [
      "len(visited_tokens) - 1, -1, -1))): 'range [7, 6, 5, 4, 3, 2, 1, 0]'\n",
      "ic| \"prev_tok {} {}\".format(prev_token, (token.i - visited_tokens[prev_token])): 'prev_tok 7 3'\n",
      "ic| \"prev_tok {} {}\".format(prev_token, (token.i - visited_tokens[prev_token])): 'prev_tok 6 4'\n",
      "ic| token.i: 28\n",
      "    token.text: 'nonstrict'\n",
      "    token.lemma_: 'nonstrict'\n",
      "    token.pos_: 'ADJ'\n",
      "    visited_tokens: [13, 15, 18, 20, 21, 22, 24, 25]\n",
      "    visited_nodes: [7, 0, 1, 2, 8, 9, 10, 11]\n",
      "ic| \"visit {} {}\".format(visited_tokens, visited_nodes): 'visit [13, 15, 18, 20, 21, 22, 24, 25, 28] [7, 0, 1, 2, 8, 9, 10, 11, 12]'\n",
      "ic| \"range {}\".format(list(range(len(visited_tokens) - 1, -1, -1))): 'range [8, 7, 6, 5, 4, 3, 2, 1, 0]'\n",
      "ic| \"prev_tok {} {}"
     ]
    },
    {
     "name": "stdout",
     "output_type": "stream",
     "text": [
      "link 12 11\n"
     ]
    },
    {
     "name": "stderr",
     "output_type": "stream",
     "text": [
      "\".format(prev_token, (token.i - visited_tokens[prev_token])): 'prev_tok 8 1'\n",
      "ic| \"prev_tok {} {}\".format(prev_token, (token.i - visited_tokens[prev_token])): 'prev_tok 7 4'\n",
      "ic| token.i: 29\n",
      "    token.text: 'inequations'\n",
      "    token.lemma_: 'inequation'\n",
      "    token.pos_: 'NOUN'\n",
      "    visited_tokens: [13, 15, 18, 20, 21, 22, 24, 25, 28]\n",
      "    visited_nodes: [7, 0, 1, 2, 8, 9, 10, 11, 12]\n",
      "ic| \"visit {} {}\".format(visited_tokens, visited_nodes): ('visit [13, 15, 18, 20, 21, 22, 24, 25, 28, 29] [7, 0, 1, 2, 8, 9, 10, 11, '\n",
      "                                                          '12, 11]')\n",
      "ic| \"range {}\".format(list(range(len(visited_tokens) - 1, -1, -1))): 'range [9, 8, 7, 6, 5, 4, 3, 2, 1, 0]'\n"
     ]
    },
    {
     "name": "stdout",
     "output_type": "stream",
     "text": [
      "link 11 12\n"
     ]
    },
    {
     "name": "stderr",
     "output_type": "stream",
     "text": [
      "ic| \"prev_tok {} {}\".format(prev_token, (token.i - visited_tokens[prev_token])): 'prev_tok 9 2'\n",
      "ic| \"prev_tok {} {}\".format(prev_token, (token.i - visited_tokens[prev_token])): 'prev_tok 8 3'\n",
      "ic| \"prev_tok {} {}\".format(prev_token, (token.i - visited_tokens[prev_token])): 'prev_tok 7 6'\n",
      "ic| token.i: 31\n",
      "    token.text: 'considered'\n",
      "    token.lemma_: 'consider'\n",
      "    token.pos_: 'VERB'\n",
      "    visited_tokens: [13, 15, 18, 20, 21, 22, 24, 25, 28, 29]\n",
      "    visited_nodes: [7, 0, 1, 2, 8, 9, 10, 11, 12, 11]\n",
      "ic| \"visit {} {}\".format(visited_tokens, visited_nodes): 'visit [] []'"
     ]
    },
    {
     "name": "stdout",
     "output_type": "stream",
     "text": [
      "link 13 11\n",
      "link 13 12\n"
     ]
    },
    {
     "name": "stderr",
     "output_type": "stream",
     "text": [
      "\n",
      "ic| \"range {}\".format(list(range(len(visited_tokens) - 1, -1, -1))): 'range []'\n",
      "ic| token.i: 33\n",
      "    token.text: 'Upper'\n",
      "    token.lemma_: 'upper'\n",
      "    token.pos_: 'ADJ'\n",
      "    visited_tokens: []\n",
      "    visited_nodes: []\n",
      "ic| \"visit {} {}\".format(visited_tokens, visited_nodes): 'visit [33] [14]'\n",
      "ic| \"range {}\".format(list(range(len(visited_tokens) - 1, -1, -1))): 'range [0]'\n",
      "ic| \"prev_tok {} {}\".format(prev_token, (token.i - visited_tokens[prev_token])): 'prev_tok 0 1'\n",
      "ic| token.i: 34\n",
      "    token.text: 'bounds'\n",
      "    token.lemma_: 'bound'\n",
      "    token.pos_: 'NOUN'\n",
      "    visited_tokens: [33]\n",
      "    visited_nodes: [14]\n",
      "ic| \"visit {} {}\".format(visited_tokens, visited_nodes): 'visit [33, 34] [14, 15]'\n",
      "ic| \"range {}\".format(list(range(len(visited_tokens) - 1, -1, -1))): 'range [1, 0]'\n",
      "ic| \"prev_tok {} {}\".format(prev_token, (token.i - visited_tokens[prev_token])): 'prev_tok 1 2'\n",
      "ic| \"prev_tok {} {}\".format(prev_token, (token.i - visited_tokens[prev_token])):"
     ]
    },
    {
     "name": "stdout",
     "output_type": "stream",
     "text": [
      "link 15 14\n",
      "link 16 15\n"
     ]
    },
    {
     "name": "stderr",
     "output_type": "stream",
     "text": [
      " 'prev_tok 0 3'\n",
      "ic| token.i: 36\n",
      "    token.text: 'components'\n",
      "    token.lemma_: 'component'\n",
      "    token.pos_: 'NOUN'\n",
      "    visited_tokens: [33, 34]\n",
      "    visited_nodes: [14, 15]\n",
      "ic| \"visit {} {}\".format(visited_tokens, visited_nodes): 'visit [33, 34, 36] [14, 15, 16]'\n",
      "ic| \"range {}\".format(list(range(len(visited_tokens) - 1, -1, -1))): 'range [2, 1, 0]'\n",
      "ic| \"prev_tok {} {}\".format(prev_token, (token.i - visited_tokens[prev_token])): 'prev_tok 2 3'\n",
      "ic| \"prev_tok {} {}\".format(prev_token, (token.i - visited_tokens[prev_token])): 'prev_tok 1 5'"
     ]
    },
    {
     "name": "stdout",
     "output_type": "stream",
     "text": [
      "link 16 14\n",
      "link 17 16\n"
     ]
    },
    {
     "name": "stderr",
     "output_type": "stream",
     "text": [
      "\n",
      "ic| token.i: 39\n",
      "    token.text: 'minimal'\n",
      "    token.lemma_: 'minimal'\n",
      "    token.pos_: 'ADJ'\n",
      "    visited_tokens: [33, 34, 36]\n",
      "    visited_nodes: [14, 15, 16]\n",
      "ic| \"visit {} {}\".format(visited_tokens, visited_nodes): 'visit [33, 34, 36, 39] [14, 15, 16, 17]'\n",
      "ic| \"range {}\".format(list(range(len(visited_tokens) - 1, -1, -1))): 'range [3, 2, 1, 0]'\n",
      "ic| \"prev_tok {} {}\".format(prev_token, (token.i - visited_tokens[prev_token])): 'prev_tok 3 1'\n",
      "ic| \"prev_tok {} {}\".format(prev_token, (token.i - visited_tokens[prev_token])): 'prev_tok 2 4'\n",
      "ic| token.i: 40\n",
      "    token.text: 'set'\n",
      "    token.lemma_: 'set'\n",
      "    token.pos_: 'NOUN'\n",
      "    visited_tokens: [33, 34, 36, 39]\n",
      "    visited_nodes: [14, 15, 16, 17]\n",
      "ic| \"visit {} {}\".format(visited_tokens, visited_nodes): 'visit [33, 34, 36, 39, 40] [14, 15, 16, 17, 4]'\n",
      "ic| \"range {}\".format(list(range(len(visited_tokens) - 1, -1, -1))): 'range [4, 3, 2, 1, 0]'\n",
      "ic| \"prev_tok {} {}\".format(prev_token, (token.i - "
     ]
    },
    {
     "name": "stdout",
     "output_type": "stream",
     "text": [
      "link 4 17\n"
     ]
    },
    {
     "name": "stderr",
     "output_type": "stream",
     "text": [
      "visited_tokens[prev_token])): 'prev_tok 4 2'\n",
      "ic| \"prev_tok {} {}\".format(prev_token, (token.i - visited_tokens[prev_token])): 'prev_tok 3 3'\n",
      "ic| \"prev_tok {} {}\".format(prev_token, (token.i - visited_tokens[prev_token])): 'prev_tok 2 6'\n",
      "ic| token.i: 42\n",
      "    token.text: 'solutions'\n",
      "    token.lemma_: 'solution'\n",
      "    token.pos_: 'NOUN'\n",
      "    visited_tokens: [33, 34, 36, 39, 40]\n",
      "    visited_nodes: [14, 15, 16, 17, 4]\n",
      "ic| \"visit {} {}\".format(visited_tokens, visited_nodes): 'visit [33, 34, 36, 39, 40, 42] [14, 15, 16, 17, 4, 18]'\n",
      "ic| \"range {}\".format(list(range(len(visited_tokens)"
     ]
    },
    {
     "name": "stdout",
     "output_type": "stream",
     "text": [
      "link 18 4\n",
      "link 18 17\n"
     ]
    },
    {
     "name": "stderr",
     "output_type": "stream",
     "text": [
      " - 1, -1, -1))): 'range [5, 4, 3, 2, 1, 0]'\n",
      "ic| \"prev_tok {} {}\".format(prev_token, (token.i - visited_tokens[prev_token])): 'prev_tok 5 2'\n",
      "ic| \"prev_tok {} {}\".format(prev_token, (token.i - visited_tokens[prev_token])): 'prev_tok 4 4'\n",
      "ic| token.i: 44\n",
      "    token.text: 'algorithms'\n",
      "    token.lemma_: 'algorithm'\n",
      "    token.pos_: 'NOUN'\n",
      "    visited_tokens: [33, 34, 36, 39, 40, 42]\n",
      "    visited_nodes: [14, 15, 16, 17, 4, 18]\n",
      "ic| \"visit {} {}\".format(visited_tokens, visited_nodes): 'visit [33, 34, 36, 39, 40, 42, 44] [14, 15, 16, 17, 4, 18, 19]'\n",
      "ic| \"range {}\".format(list(range(len(visited_tokens) - 1, -1, -1))): 'range [6, 5, 4, 3, 2, 1, 0]'\n",
      "ic| \"prev_tok {} {}\".format(prev_token, (token.i - visited_tokens[prev_token]))"
     ]
    },
    {
     "name": "stdout",
     "output_type": "stream",
     "text": [
      "link 19 18\n"
     ]
    },
    {
     "name": "stderr",
     "output_type": "stream",
     "text": [
      ": 'prev_tok 6 2'\n",
      "ic| \"prev_tok {} {}\".format(prev_token, (token.i - visited_tokens[prev_token])): 'prev_tok 5 4'\n",
      "ic| token.i: 46\n",
      "    token.text: 'construction'\n",
      "    token.lemma_: 'construction'\n",
      "    token.pos_: 'NOUN'\n",
      "    visited_tokens: [33, 34, 36, 39, 40, 42, 44]\n",
      "    visited_nodes: [14, 15, 16, 17, 4, 18, 19]\n",
      "ic| \"visit {} {}\".format(visited_tokens, visited_nodes): 'visit [33, 34, 36, 39, 40, 42, 44, 46] [14, 15, 16, 17, 4, 18, 19, 20]'\n",
      "ic| \"range {}\".format(list(range(len(visited_tokens) - 1, -1, -1))): 'range [7, 6, 5, 4, 3, 2, 1, 0]'\n",
      "ic| \"prev_tok "
     ]
    },
    {
     "name": "stdout",
     "output_type": "stream",
     "text": [
      "link 20 19\n"
     ]
    },
    {
     "name": "stderr",
     "output_type": "stream",
     "text": [
      "{} {}\".format(prev_token, (token.i - visited_tokens[prev_token])): 'prev_tok 7 2'\n",
      "ic| \"prev_tok {} {}\".format(prev_token, (token.i - visited_tokens[prev_token])): 'prev_tok 6 4'\n",
      "ic| token.i: 48\n",
      "    token.text: 'minimal'\n",
      "    token.lemma_: 'minimal'\n",
      "    token.pos_: 'ADJ'\n",
      "    visited_tokens: [33, 34, 36, 39, 40, 42, 44, 46]\n",
      "    visited_nodes: [14, 15, 16, 17, 4, 18, 19, 20]\n",
      "ic| \"visit {} {}\".format(visited_tokens, visited_nodes): 'visit [33, 34, 36, 39, 40, 42, 44, 46, 48] [14, 15, 16, 17, 4, 18, 19, 20, 17]'\n",
      "ic| \"range {}\".format(list(range(len(visited_tokens) - 1, -1, -1))): 'range [8, 7, 6, 5, 4, 3, 2, 1, 0]'\n",
      "ic| "
     ]
    },
    {
     "name": "stdout",
     "output_type": "stream",
     "text": [
      "link 17 20\n"
     ]
    },
    {
     "name": "stderr",
     "output_type": "stream",
     "text": [
      "\"prev_tok {} {}\".format(prev_token, (token.i - visited_tokens[prev_token])): 'prev_tok 8 1'\n",
      "ic| \"prev_tok {} {}\".format(prev_token, (token.i - visited_tokens[prev_token])): 'prev_tok 7 3'\n",
      "ic| \"prev_tok {} {}\".format(prev_token, (token.i - visited_tokens[prev_token])): 'prev_tok 6 5'\n",
      "ic| token.i: 49\n",
      "    token.text: 'generating'\n",
      "    token.lemma_: 'generate'\n",
      "    token.pos_: 'VERB'\n",
      "    visited_tokens: [33, 34, 36, 39, 40, 42, 44, 46, 48]\n",
      "    visited_nodes: [14, 15, 16, 17, 4, 18, 19, 20, 17]"
     ]
    },
    {
     "name": "stdout",
     "output_type": "stream",
     "text": [
      "link 21 17\n",
      "link 21 20\n"
     ]
    },
    {
     "name": "stderr",
     "output_type": "stream",
     "text": [
      "\n",
      "ic| \"visit {} {}\".format(visited_tokens, visited_nodes): ('visit [33, 34, 36, 39, 40, 42, 44, 46, 48, 49] [14, 15, 16, 17, 4, 18, 19, '\n",
      "                                                          '20, 17, 21]')\n",
      "ic| \"range {}\".format(list(range(len(visited_tokens) - 1, -1, -1))): 'range [9, 8, 7, 6, 5, 4, 3, 2, 1, 0]'\n",
      "ic| \"prev_tok {} {}\".format(prev_token, (token.i - visited_tokens[prev_token])): 'prev_tok 9 1'\n",
      "ic| \"prev_tok {} {}\".format(prev_token, (token.i - visited_tokens[prev_token])): 'prev_tok 8 2'\n",
      "ic| \"prev_tok {} {}\".format(prev_token, (token.i - visited_tokens[prev_token])): 'prev_tok 7 4'\n",
      "ic| token.i: 50\n",
      "    token.text: 'sets'\n",
      "    token.lemma_: 'set'\n",
      "    token.pos_: 'NOUN'\n",
      "    visited_tokens: [33, 34, 36, 39, 40, 42, 44, 46, 48, 49]\n",
      "    visited_nodes: [14, 15, 16, 17,"
     ]
    },
    {
     "name": "stdout",
     "output_type": "stream",
     "text": [
      "link 4 21\n",
      "link 4 17\n"
     ]
    },
    {
     "name": "stderr",
     "output_type": "stream",
     "text": [
      " 4, 18, 19, 20, 17, 21]\n",
      "ic| \"visit {} {}\".format(visited_tokens, visited_nodes): ('visit [33, 34, 36, 39, 40, 42, 44, 46, 48, 49, 50] [14, 15, 16, 17, 4, 18, '\n",
      "                                                          '19, 20, 17, 21, 4]')\n",
      "ic| \"range {}\".format(list(range(len(visited_tokens) - 1, -1, -1))): 'range [10, 9, 8, 7, 6, 5, 4, 3, 2, 1, 0]'\n",
      "ic| \"prev_tok {} {}\".format(prev_token, (token.i - visited_tokens[prev_token])): 'prev_tok 10 2'\n",
      "ic| \"prev_tok {} {}\".format(prev_token, (token.i - visited_tokens[prev_token])): 'prev_tok 9 3'\n",
      "ic| \"prev_tok {} {}\".format(prev_token, (token.i - visited_tokens[prev_token])): 'prev_tok 8 4'\n",
      "ic| token.i: 52\n",
      "    token.text: 'solutions'\n",
      "    token.lemma_: 'solution'\n",
      "    token.pos_: 'NOUN'\n",
      "    visited_tokens: [33, 34, 36, 39, 40, 42, 44, 46, 48, 49, 50]\n",
      "    visited_nodes: [14, 15"
     ]
    },
    {
     "name": "stdout",
     "output_type": "stream",
     "text": [
      "link 18 4\n",
      "link 18 21\n"
     ]
    },
    {
     "name": "stderr",
     "output_type": "stream",
     "text": [
      ", 16, 17, 4, 18, 19, 20, 17, 21, 4]\n",
      "ic| \"visit {} {}\".format(visited_tokens, visited_nodes): ('visit [33, 34, 36, 39, 40, 42, 44, 46, 48, 49, 50, 52] [14, 15, 16, 17, 4, '\n",
      "                                                          '18, 19, 20, 17, 21, 4, 18]')\n",
      "ic| \"range {}\".format(list(range(len(visited_tokens) - 1, -1, -1))): 'range [11, 10, 9, 8, 7, 6, 5, 4, 3, 2, 1, 0]'\n",
      "ic| \"prev_tok {} {}\".format(prev_token, (token.i - visited_tokens[prev_token])): 'prev_tok 11 3'\n",
      "ic| \"prev_tok {} {}\".format(prev_token, (token.i - visited_tokens[prev_token])): 'prev_tok 10 5'\n",
      "ic| token.i: 55\n",
      "    token.text: 'types'\n",
      "    token.lemma_: 'type'\n",
      "    token.pos_: 'NOUN'\n",
      "    visited_tokens: [33, 34, 36, 39, 40, 42, 44, 46, 48, 49, 50, 52]\n",
      "    visited_nodes: [14, 15, 16, 17, 4, 18, 19, 20, 17, 21, 4, 18]\n",
      "ic| \"visit {} {}\".format(visited_tokens, visited_nodes): ('visit [33, 34, 36, 39, 40, 42, 44, 46, 48, 49, 50, 52, 55] [14, 15, 16, 17, '\n",
      "                                                          '4, 18, 19, 20, 17, 21, 4, 18, 22]')\n",
      "ic| \""
     ]
    },
    {
     "name": "stdout",
     "output_type": "stream",
     "text": [
      "link 22 18\n"
     ]
    },
    {
     "name": "stderr",
     "output_type": "stream",
     "text": [
      "range {}\".format(list(range(len(visited_tokens) - 1, -1, -1))): 'range [12, 11, 10, 9, 8, 7, 6, 5, 4, 3, 2, 1, 0]'\n",
      "ic| \"prev_tok {} {}\".format(prev_token, (token.i - visited_tokens[prev_token])): 'prev_tok 12 2'\n",
      "ic| \"prev_tok {} {}\".format(prev_token, (token.i - visited_tokens[prev_token])): 'prev_tok 11 5'\n",
      "ic| token.i: 57\n",
      "    token.text: 'systems'\n",
      "    token.lemma_: 'system'\n",
      "    token.pos_: 'NOUN'\n",
      "    visited_tokens: [33, 34, 36, 39, 40, 42, 44, 46, 48, 49, 50, 52, 55]\n",
      "    visited_nodes: [14, 15, 16, 17, 4, 18, 19, 20, 17, 21, 4, 18, 22]\n",
      "ic| \"visit {} {}\".format(visited_tokens, visited_nodes): ('visit [33, 34, 36, 39, 40, 42, 44, 46, 48, 49, 50, 52, 55, 57] [14, 15, 16, "
     ]
    },
    {
     "name": "stdout",
     "output_type": "stream",
     "text": [
      "link 1 22\n"
     ]
    },
    {
     "name": "stderr",
     "output_type": "stream",
     "text": [
      "'\n",
      "                                                          '17, 4, 18, 19, 20, 17, 21, 4, 18, 22, 1]')\n",
      "ic| \"range {}\".format(list(range(len(visited_tokens) - 1, -1, -1))): 'range [13, 12, 11, 10, 9, 8, 7, 6, 5, 4, 3, 2, 1, 0]'\n",
      "ic| \"prev_tok {} {}\".format(prev_token, (token.i - visited_tokens[prev_token])): 'prev_tok 13 2'\n",
      "ic| \"prev_tok {} {}\".format(prev_token, (token.i - visited_tokens[prev_token])): 'prev_tok 12 4'\n",
      "ic| token.i: 59\n",
      "    token.text: 'given'\n",
      "    token.lemma_: 'give'\n",
      "    token.pos_: 'VERB'\n",
      "    visited_tokens: [33, 34, 36, 39, 40, 42, 44, 46, 48, 49, 50, 52, 55, 57]\n",
      "    visited_nodes: [14"
     ]
    },
    {
     "name": "stdout",
     "output_type": "stream",
     "text": [
      "link 23 1\n"
     ]
    },
    {
     "name": "stderr",
     "output_type": "stream",
     "text": [
      ", 15, 16, 17, 4, 18, 19, 20, 17, 21, 4, 18, 22, 1]\n",
      "ic| \"visit {} {}\".format(visited_tokens, visited_nodes): 'visit [] []'\n",
      "ic| \"range {}\".format(list(range(len(visited_tokens) - 1, -1, -1))): 'range []'\n",
      "ic| token.i: 62\n",
      "    token.text: 'criteria'\n",
      "    token.lemma_: 'criterion'\n",
      "    token.pos_: 'NOUN'\n",
      "    visited_tokens: []\n",
      "    visited_nodes: []\n",
      "ic| \"visit {} {}\".format(visited_tokens, visited_nodes): 'visit [62] [7]'\n",
      "ic| \"range {}\".format(list(range(len(visited_tokens) - 1, -1, -1))): 'range [0]'\n",
      "ic| \"prev_tok {} {}\".format(prev_token, (token.i - visited_tokens[prev_token])): 'prev_tok 0 3'\n",
      "ic| token.i: 65\n",
      "    token.text: 'corresponding'\n",
      "    token.lemma_: 'correspond'\n",
      "    token.pos_: 'VERB'\n",
      "    visited_tokens: [62]\n",
      "    visited_nodes: [7]\n",
      "ic| \"visit {} {}\".format(visited_tokens, visited_nodes): 'visit [62, 65] [7, 24]'\n",
      "ic| \"range {}\".format(list(range(len(visited_tokens) - 1, -1, -1))): 'range [1, 0]'\n",
      "ic| \"prev_tok {} {}\".format(prev_token, (token.i"
     ]
    },
    {
     "name": "stdout",
     "output_type": "stream",
     "text": [
      "link 24 7\n"
     ]
    },
    {
     "name": "stderr",
     "output_type": "stream",
     "text": [
      " - visited_tokens[prev_token])): 'prev_tok 1 1'\n",
      "ic| \"prev_tok {} {}\".format(prev_token, (token.i - visited_tokens[prev_token])\n",
      "    token.text: 'constructing'\n",
      "    token.lemma_: 'construct'\n",
      "    token.pos_: 'VERB'\n",
      "    visited_tokens: [62, 65, 66]\n",
      "    visited_nodes: [7, 24, 19]\n",
      "ic| \"visit {} {}\".format(visited_tokens, visited_nodes): 'visit [62, 65, 66, 68] [7, 24, 19, 25]'\n",
      "ic| \"range {}\".format(list(range(len(visited_tokens) - 1, -1,"
     ]
    },
    {
     "name": "stdout",
     "output_type": "stream",
     "text": [
      "link 25 19\n",
      "link 25 24\n"
     ]
    },
    {
     "name": "stderr",
     "output_type": "stream",
     "text": [
      " -1))): 'range [3, 2, 1, 0]'\n",
      "ic| \"prev_tok {} {}\".format(prev_token, (token.i - visited_tokens[prev_token])): 'prev_tok 3 2'\n",
      "ic| \"prev_tok {} {}\".format(prev_token, (token.i - visited_tokens[prev_token])): 'prev_tok 2 4'\n",
      "ic| token.i: 70\n",
      "    token.text: 'minimal'\n",
      "    token.lemma_: 'minimal'\n",
      "    token.pos_: 'ADJ'\n",
      "    visited_tokens: [62, 65, 66, 68]\n",
      "    visited_nodes: [7, 24, 19, 25]\n",
      "ic| \"visit {} {}\".format(visited_tokens, visited_nodes): 'visit [62, 65, 66, 68, 70] [7, 24, 19, 25, 17]'\n",
      "ic| \"range {}\".format(list(range(len(visited_tokens) - 1, -1, -1))): 'range [4, 3, 2, 1, 0]'\n",
      "ic| \"prev_tok {} {}\".format"
     ]
    },
    {
     "name": "stdout",
     "output_type": "stream",
     "text": [
      "link 17 25\n"
     ]
    },
    {
     "name": "stderr",
     "output_type": "stream",
     "text": [
      "(prev_token, (token.i - visited_tokens[prev_token])): 'prev_tok 4 1'\n",
      "ic| \"prev_tok {} {}\".format(prev_token, (token.i - visited_tokens[prev_token])): 'prev_tok 3 3'\n",
      "ic| \"prev_tok {} {}\".format(prev_token, (token.i - visited_tokens[prev_token])): 'prev_tok 2 5'\n",
      "ic| token.i: 71\n",
      "    token.text: 'supporting'\n",
      "    token.lemma_: 'support'\n",
      "    token.pos_: 'VERB'\n",
      "    visited_tokens: [62, 65, 66, 68, 70]\n",
      "    visited_nodes: [7, 24, ic| \"prev_tok {} {}\".format(prev_token, (token.i - visited_tokens[prev_token])): 'prev_tok 5 3'\n",
      "ic| \"prev_tok {} {}\".format(prev_token, (token.i - visited_tokens[prev_token])): 'prev_tok 4 4'\n",
      "ic| token.i: 74\n",
      "    token.text: 'solutions'\n",
      "    token.lemma_: 'solution'\n",
      "    token.pos_: 'NOUN'\n",
      "    visited_tokens: [62, 65, 66, 68, 70, 71, 72]\n",
      "    visited_nodes: [7, 24, 19, 25, 17, 26, 4]\n",
      "ic| \"visit {} {}\".format(visited_tokens, visited_nodes): 'visit [62, 65, 66, 68, 70, 71, 72, 74] [7, 24, 19, 25, 17, 26, 4, 18]'\n"
     ]
    },
    {
     "name": "stdout",
     "output_type": "stream",
     "text": [
      "link 18 4\n",
      "link 18 26\n"
     ]
    },
    {
     "name": "stderr",
     "output_type": "stream",
     "text": [
      "ic| \"range {}\".format(list(range(len(visited_tokens) - 1, -1, -1))): 'range [7, 6, 5, 4, 3, 2, 1, 0]'\n",
      "ic| \"prev_tok {} {}\".format(prev_token, (token.i - visited_tokens[prev_token])): 'prev_tok 7 1'\n",
      "ic| \"prev_tok {} {}\".format(prev_token, (token.i - visited_tokens[prev_token])): 'prev_tok 6 3'\n",
      "ic| \"prev_tok {} {}\".format(prev_token, (token.i - visited_tokens[prev_token])): 'prev_tok 5 4'\n",
      "ic| token.i: 75\n",
      "    token.text: 'can'\n",
      "    token.lemma_: 'can'\n",
      "    token.pos_: 'VERB'\n",
      "    visited_tokens: [62, 65, 66, 68, 70, 71, 72, 74]\n",
      "    visited_nodes: [7, 24, 19, 25, 17, 26, 4, 18]\n",
      "ic| \"visit {} {}\".format(visited_tokens, visited_nodes): 'visit [62, 65, 66, 68, 70, 71, 72, 74, 75] [7, 24, 19, 25, 17, 26, 4, 18, 27]'\n"
     ]
    },
    {
     "name": "stdout",
     "output_type": "stream",
     "text": [
      "link 27 18\n",
      "link 27 4\n"
     ]
    },
    {
     "name": "stderr",
     "output_type": "stream",
     "text": [
      "ic| \"range {}\".format(list(range(len(visited_tokens) - 1, -1, -1))): 'range [8, 7, 6, 5, 4, 3, 2, 1, 0]'\n",
      "ic| \"prev_tok {} {}\".format(prev_token,: 'VERB'\n",
      "    visited_tokens: [62, 65, 66, 68, 70, 71, 72, 74, 75, 77]\n",
      "    visited_nodes: [7, 24, 19, 25, 17, 26, 4, 18, 27, 28]\n",
      "ic| \"visit {} {}\".format(visited_tokens, visited_nodes): ('visit [62, 65, 66, 68, 70, 71, 72, 74, 75, 77, 79] [7, 24, 19, 25, 17, 26, '\n",
      "                                                          '4, 18, 27, 28, 29]'"
     ]
    },
    {
     "name": "stdout",
     "output_type": "stream",
     "text": [
      "link 29 28\n"
     ]
    },
    {
     "name": "stderr",
     "output_type": "stream",
     "text": [
      ")\n",
      "ic| \"range {}\".format(list(range(len(visited_tokens) - 1, -1, -1))): 'range [10, 9, 8, 7, 6, 5, 4, 3, 2, 1, 0]'\n",
      "ic| \"prev_tok {} {}\".format(prev_token, (token.i - visited_tokens[prev_token])): 'prev_tok 10 3'\n",
      "ic| \"prev_tok {} {}\".format(prev_token, (token.i - visited_tokens[prev_token])): 'prev_tok 9 5'\n",
      "ic| token.i: 82\n",
      "    token.text: 'considered'\n",
      "    token.lemma_: 'consider'\n",
      "    token.pos_: 'VERB'\n",
      "    visited_tokens: [62, 65, 66, 68, 70, 71, 72, 74, 75, 77, 79]\n",
      "    visited_nodes: [7, 24, 19, 25, 17, 26, 4, 18, 27, 28, 29]\n",
      "ic| \"visit {} {}\".format(visited_tokens, visited_nodes): ('visit [62, 65, 66, 68, 70, 71, 72, 74, 75, 77, 79, 82] [7, 24, 19, 25, 17, '\n",
      "                                                          '26, 4, 18, 27, 28, 29, 13]')\n",
      "ic| \"range {}\".format(list(range(len(visited_tokens) - 1, -1, -1)"
     ]
    },
    {
     "name": "stdout",
     "output_type": "stream",
     "text": [
      "link 13 29\n"
     ]
    },
    {
     "name": "stderr",
     "output_type": "stream",
     "text": [
      ")): 'range [11, 10, 9, 8, 7, 6, 5, 4, 3, 2, 1, 0]'\n",
      "ic| \"prev_tok {} {}\".format(prev_token, (token.i - visited_tokens[prev_token])): 'prev_tok 11 1'\n",
      "ic| \"prev_tok {} {}\".format(prev_token, (token.i - visited_tokens[prev_token])): 'prev_tok 10 4'\n",
      "ic| token.i: 83\n",
      "    token.text: 'types'\n",
      "    token.lemma_: 'type'\n",
      "    token): 'prev_tok 11 2'\n",
      "ic| \"prev_tok {} {}\".format(prev_token, (token.i - visited_tokens[prev_token])): 'prev_tok 10 5'\n",
      "ic| token.i: 84\n",
      "    token.text: 'systems'\n",
      "    token.lemma_: 'system'\n",
      "    token.pos_: 'NOUN'\n",
      "    visited_tokens: [62, 65, 66, 68, 70, 71, 72, 74, 75, 77, 79, 82, 83]\n",
      "    visited_nodes: [7, 24, 19, 25, 17, 26, 4, 18, 27, 28, 29, 13, 22]\n"
     ]
    },
    {
     "name": "stdout",
     "output_type": "stream",
     "text": [
      "link 1 22\n",
      "link 1 13\n"
     ]
    },
    {
     "name": "stderr",
     "output_type": "stream",
     "text": [
      "ic| \"visit {} {}\".format(visited_tokens, visited_nodes): ('visit [62, 65, 66, 68, 70, 71, 72, 74, 75, 77, 79, 82, 83, 84] [7, 24, 19, '\n",
      "                                                          '25, 17, 26, 4, 18, 27, 28, 29, 13, 22, 1]')\n",
      "ic| \"range {}\".format(list(range(len(visited_tokens) - 1, -1, -1))): 'range [13, 12, 11, 10, 9, 8, 7, 6, 5, 4, 3, 2, 1, 0]'\n",
      "ic| \"prev_tok {} {}\".format(prev_token, (token.i - visited_tokens[prev_token])): 'prev_tok 13 2'\n",
      "ic| \"prev_tok {} {}\".format(prev_token, (token.i - visited_tokens[prev_token])): 'prev_tok 12 3'\n",
      "ic| \"prev_tok {} {}\".format(prev_token, (token.i - visited_tokens[prev_token])): 'prev_tok 11 4'\n",
      "ic| token.i: 86\n",
      "    token.text: 'systems'\n",
      "    token.lemma_: 'system'\n",
      "    token.pos_: 'NOUN'\n",
      "    visited_tokens: [62, 65, 66, 68, 70, 71, 72, 74, 75, 77, 79, 82, 83, 84]\n",
      "    visited_nodes: [7, 24, 19, 25, 17, 26, 4, 18, 27, 28, 29, 13, 22, 1]\n"
     ]
    },
    {
     "name": "stdout",
     "output_type": "stream",
     "text": [
      "link 1 1\n",
      "link 1 22\n"
     ]
    },
    {
     "name": "stderr",
     "output_type": "stream",
     "text": [
      "ic| \"visit {} {}\".format(visited_tokens, visited_nodes): ('visit [62, 65, 66, 68, 70, 71, 72, 74, 75, 77, 79, 82, 83, 84, 86] [7, 24, '\n",
      "                                                          '19, 25, 17, 26, 4, 18, 27, 28, 29, 13, 22, 1, 1]')\n",
      "ic| \"range {}\".format(list(range(len(visited_tokens) - 1, -1, -1))): 'range [14, 13, 12, 11, 10, 9, 8, 7, 6, 5, 4, 3, 2, 1, 0]'\n",
      "ic| \"prev_tok {} {}\".format(prev_token, (token.i - visited_tokens[prev_token])): 'prev_tok 14 2'\n",
      "ic| \"prev_tok {} {}\".format(prev_token, (token.i - visited_tokens[prev_token])): 'prev_tok 13 4'\n",
      "ic| token.i: 88\n",
      "    token.text: 'mixed'\n",
      "    token.lemma_: 'mixed'\n",
      "    token.pos_: 'ADJ'\n",
      "    visited_tokens: [62, 65, 66, 68, 70, 71, 72, 74, 75, 77, 79, 82, 83, 84, 86]\n",
      "    visited_nodes: [7, 24, 19, 25, 17, 26, 4, 18, 27, 28, 29, 13, 22, 1, 1]\n",
      "ic| \"visit {} {}\"."
     ]
    },
    {
     "name": "stdout",
     "output_type": "stream",
     "text": [
      "link 30 1\n"
     ]
    },
    {
     "name": "stderr",
     "output_type": "stream",
     "text": [
      "format(visited_tokens, visited_nodes): ('visit [62, 65, 66, 68, 70, 71, 72, 74, 75, 77, 79, 82, 83, 84, 86, 88] [7, '\n",
      "                                                          '24, 19, 25, 17, 26, 4, 18, 27, 28, 29, 13, 22, 1, 1, 30]')\n",
      "ic| \"range {}\".format(list(range(len(visited_tokens) - 1, -1, -1))): 'range [15, 14, 13, 12, 11, 10, 9, 8, 7, 6, 5, 4, 3, 2, 1, 0]'\n",
      "ic| \"prev_tok {} {}\".format(prev_token, (token.i - visited_tokens[prev_token])): 'prev_tok 15 1'\n",
      "ic| \"prev_tok {} {}\".format(prev_token, (token.i - visited_tokens[prev_token])): 'prev_tok 14 3'\n",
      "ic| \"prev_tok {} {}\".format(prev_token, (token.i - visited_tokens[prev_token])): 'prev_tok 13 5'\n",
      "ic| token.i: 89\n",
      "    token.text: 'types'\n",
      "    token.lemma_: 'type'\n",
      "    token.pos_: 'NOUN'\n",
      "    visited_tokens: [62, 65, 66, 68, 70, 71, 72, 74, 75, 77, 79, 82, 83, 84, 86, 88]\n",
      "    visited_nodes: [7, 24, 19, 25, 17, 26, 4, 18, 27, 28, 29, 13"
     ]
    },
    {
     "name": "stdout",
     "output_type": "stream",
     "text": [
      "link 22 30\n",
      "link 22 1\n"
     ]
    },
    {
     "name": "stderr",
     "output_type": "stream",
     "text": [
      ", 22, 1, 1, 30]\n",
      "ic| seen_lemma: {('Diophantine', 'PROPN'): {21},\n",
      "                 ('algorithm', 'NOUN'): {66, 44},\n",
      "                 ('bound', 'NOUN'): {34},\n",
      "                 ('can', 'VERB'): {75},\n",
      "                 ('compatibility', 'NOUN'): {0, 15},\n",
      "                 ('component', 'NOUN'): {36},\n",
      "                 ('consider', 'VERB'): {82, 31},\n",
      "                 ('constraint', 'NOUN'): {5},\n",
      "                 ('construct', 'VERB'): {68},\n",
      "                 ('construction', 'NOUN'): {46},\n",
      "                 ('correspond', 'VERB'): {65},\n",
      "                 ('criterion', 'NOUN'): {13, 62},\n",
      "                 ('equation', 'NOUN'): {22},\n",
      "                 ('generate', 'VERB'): {49},\n",
      "                 ('give', 'VERB'): {59},\n",
      "                 ('inequation', 'NOUN'): {25, 29},\n",
      "                 ('linear', 'ADJ'): {4, 20},\n",
      "                 ('minimal', 'ADJ'): {48, 70, 39},\n",
      "                 ('mixed', 'ADJ'): {88},\n",
      "                 ('natural', 'ADJ'): {10},\n",
      "                 ('nonstrict', 'ADJ'): {28},\n",
      "                 ('number', 'NOUN'): {11},\n",
      "                 (89, 83, 55},\n",
      "                 ('upper', 'ADJ'): {33},\n",
      "                 ('use', 'VERB'): {77}}\n"
     ]
    },
    {
     "data": {
      "text/plain": [
       "{('compatibility', 'NOUN'): {0, 15},\n",
       " ('system', 'NOUN'): {2, 18, 57, 84, 86},\n",
       " ('linear', 'ADJ'): {4, 20},\n",
       " ('constraint', 'NOUN'): {5},\n",
       " ('set', 'NOUN'): {8, 40, 50, 72},\n",
       " ('natural', 'ADJ'): {10},\n",
       " ('number', 'NOUN'): {11},\n",
       " ('criterion', 'NOUN'): {13, 62},\n",
       " ('Diophantine', 'PROPN'): {21},\n",
       " ('equation', 'NOUN'): {22},\n",
       " ('strict', 'ADJ'): {24},\n",
       " ('inequation', 'NOUN'): {25, 29},\n",
       " ('nonstrict', 'ADJ'): {28},\n",
       " ('consider', 'VERB'): {31, 82},\n",
       " ('upper', 'ADJ'): {33},\n",
       " ('bound', 'NOUN'): {34},\n",
       " ('component', 'NOUN'): {36},\n",
       " ('minimal', 'ADJ'): {39, 48, 70},\n",
       " ('solution', 'NOUN'): {42, 52, 74},\n",
       " ('algorithm', 'NOUN'): {44, 66},\n",
       " ('construction', 'NOUN'): {46},\n",
       " ('generate', 'VERB'): {49},\n",
       " ('type', 'NOUN'): {55, 83, 89},\n",
       " ('give', 'VERB'): {59},\n",
       " ('correspond', 'VERB'): {65},\n",
       " ('construct', 'VERB'): {68},\n",
       " ('support', 'VERB'): {71},\n",
       " ('can', 'VERB'): {75},\n",
       " ('use', 'VERB'): {77},\n",
       " ('solve', 'VERB'): {79},\n",
       " ('mixed', 'ADJ'): {88}}"
      ]
     },
     "execution_count": 10,
     "metadata": {},
     "output_type": "execute_result"
    }
   ],
   "source": [
    "lemma_graph = nx.Graph()\n",
    "seen_lemma = {}\n",
    "\n",
    "for sent in doc.sents:\n",
    "    link_sentence(doc, sent, lemma_graph, seen_lemma)\n",
    "    #break # only test one sentence\n",
    "\n",
    "ic(seen_lemma)"
   ]
  },
  {
   "cell_type": "markdown",
   "metadata": {},
   "source": [
    "Let's visualize the lemma graph, and for that first we need to collect a dictionary of the labels."
   ]
  },
  {
   "cell_type": "code",
   "execution_count": 11,
   "metadata": {
    "scrolled": true
   },
   "outputs": [
    {
     "data": {
      "text/plain": [
       "{0: 'compatibility',\n",
       " 1: 'system',\n",
       " 2: 'linear',\n",
       " 3: 'constraint',\n",
       " 4: 'set',\n",
       " 5: 'natural',\n",
       " 6: 'number',\n",
       " 7: 'criterion',\n",
       " 8: 'diophantine',\n",
       " 9: 'equation',\n",
       " 10: 'strict',\n",
       " 11: 'inequation',\n",
       " 12: 'nonstrict',\n",
       " 13: 'consider',\n",
       " 14: 'upper',\n",
       " 15: 'bound',\n",
       " 16: 'component',\n",
       " 17: 'minimal',\n",
       " 18: 'solution',\n",
       " 19: 'algorithm',\n",
       " 20: 'construction',\n",
       " 21: 'generate',\n",
       " 22: 'type',\n",
       " 23: 'give',\n",
       " 24: 'correspond',\n",
       " 25: 'construct',\n",
       " 26: 'support',\n",
       " 27: 'can',\n",
       " 28: 'use',\n",
       " 29: 'solve',\n",
       " 30: 'mixed'}"
      ]
     },
     "execution_count": 11,
     "metadata": {},
     "output_type": "execute_result"
    }
   ],
   "source": [
    "labels = {}\n",
    "keys = list(seen_lemma.keys())\n",
    "\n",
    "for i in range(len(seen_lemma)):\n",
    "    labels[i] = keys[i][0].lower()\n",
    "\n",
    "labels"
   ]
  },
  {
   "cell_type": "markdown",
   "metadata": {},
   "source": [
    "Then use `matplotlib` to visualize the lemma graph:"
   ]
  },
  {
   "cell_type": "code",
   "execution_count": 12,
   "metadata": {},
   "outputs": [
    {
     "data": {
      "image/png": "[encoded data removed]",
      "text/plain": [
       "<Figure size 648x648 with 1 Axes>"
      ]
     },
     "metadata": {},
     "output_type": "display_data"
    }
   ],
   "source": [
    "%matplotlib inline\n",
    "import matplotlib.pyplot as plt\n",
    "\n",
    "fig = plt.figure(figsize=(9, 9))\n",
    "pos = nx.spring_layout(lemma_graph)\n",
    "\n",
    "nx.draw(lemma_graph, pos=pos, with_labels=False, font_weight=\"bold\")\n",
    "nx.draw_networkx_labels(lemma_graph, pos, labels);"
   ]
  },
  {
   "cell_type": "markdown",
   "metadata": {},
   "source": [
    "Now to run the algorithm, we use `PageRank` – which is approximately _eigenvalue centrality_ – to calculate ranks for each of the nodes in the lemma graph."
   ]
  },
  {
   "cell_type": "code",
   "execution_count": 13,
   "metadata": {
    "scrolled": true
   },
   "outputs": [
    {
     "data": {
      "text/plain": [
       "{0: 0.024271712355906368,\n",
       " 1: 0.09333252040998133,\n",
       " 2: 0.03523397804162026,\n",
       " 3: 0.02206335459191633,\n",
       " 4: 0.07861554068010741,\n",
       " 5: 0.01809941577235555,\n",
       " 6: 0.018099415772355555,\n",
       " 7: 0.019060006636093224,\n",
       " 8: 0.029808750669594285,\n",
       " 9: 0.03048048654757325,\n",
       " 10: 0.024130822879014753,\n",
       " 11: 0.038123234125218,\n",
       " 12: 0.0241093059622507,\n",
       " 13: 0.03711169419801581,\n",
       " 14: 0.023451020703587552,\n",
       " 15: 0.023451020703587552,\n",
       " 16: 0.03050388828323344,\n",
       " 17: 0.06065433220816629,\n",
       " 18: 0.06478113357971631,\n",
       " 19: 0.03068873921565539,\n",
       " 20: 0.02307689865072579,\n",
       " 21: 0.028180619352715125,\n",
       " 22: 0.04616659117609875,\n",
       " 23: 0.010505124595345142,\n",
       " 24: 0.025921063118458917,\n",
       " 25: 0.030404750534637228,\n",
       " 26: 0.02810309146111207,\n",
       " 27: 0.022858064793249932,\n",
       " 28: 0.024510385972397564,\n",
       " 29: 0.018092057150289068,\n",
       " 30: 0.01611097985902083}"
      ]
     },
     "execution_count": 13,
     "metadata": {},
     "output_type": "execute_result"
    }
   ],
   "source": [
    "ranks = nx.pagerank(lemma_graph)\n",
    "ranks"
   ]
  },
  {
   "cell_type": "code",
   "execution_count": 14,
   "metadata": {
    "scrolled": true
   },
   "outputs": [
    {
     "name": "stderr",
     "output_type": "stream",
     "text": [
      "ic| node_id: 1, rank: 0.09333252040998133, labels[node_id]: 'system'\n",
      "ic| node_id: 4, rank: 0.07861554068010741, labels[node_id]: 'set'\n",
      "ic| node_id: 18\n",
      "    rank: 0.06478113357971631\n",
      "    labels[node_id]: 'solution'\n",
      "ic| node_id: 17, rank: 0.06065433220816629, labels[node_id]: 'minimal'\n",
      "ic| node_id: 22, rank: 0.04616659117609875, labels[node_id]: 'type'\n",
      "ic| node_id: 11\n",
      "    rank: 0.038123234125218\n",
      "    labels[node_id]: 'inequation'\n",
      "ic| node_id: 13\n",
      "    rank: 0.03711169419801581\n",
      "    labels[node_id]: 'consider'\n",
      "ic| node_id: 2, rank: 0.03523397804162026, labels[node_id]: 'linear'\n",
      "ic| node_id: 19\n",
      "    rank: 0.03068873921565539\n",
      "    labels[node_id]: 'algorithm'\n",
      "ic| node_id: 16\n",
      "    rank: 0.03050388828323344\n",
      "    labels[node_id]: 'component'\n",
      "ic| node_id: 9, rank: 0.03048048654757325, labels[node_id]: 'equation'\n",
      "ic| node_id: 25\n",
      "    rank: 0.030404750534637228\n",
      "    labels[node_id]: 'construct'\n",
      "ic| node_id: 8\n",
      "    rank: 0.029808750669594285\n",
      "    labels[node_id]: 'diophantine'\n",
      "ic| node_id: 21\n",
      "    rank: 0.028180619352715125\n",
      "    labels[node_id]: 'generate'\n",
      "ic| node_id: 26, rank: 0.02810309146111207, labels[node_id]: 'support'\n",
      "ic| node_id: 24\n",
      "    rank: 0.025921063118458917\n",
      "    labels[node_id]: 'correspond'\n",
      "ic| node_id: 28, rank: 0.024510385972397564, labels[node_id]: 'use'\n",
      "ic| node_id: 0\n",
      "    rank: 0.024271712355906368\n",
      "    labels[node_id]: 'compatibility'\n",
      "ic| node_id: 10, rank: 0.024130822879014753, labels[node_id]: 'strict'\n",
      "ic| node_id: 12\n",
      "    rank: 0.0241093059622507\n",
      "    labels[node_id]: 'nonstrict'\n",
      "ic| node_id: 14, rank: 0.023451020703587552, labels[node_id]: 'upper'\n",
      "ic| node_id: 15, rank: 0.023451020703587552, labels[node_id]: 'bound'\n",
      "ic| node_id: 20\n",
      "    rank: 0.02307689865072579\n",
      "    labels[node_id]: 'construction'\n",
      "ic| node_id: 27, rank: 0.022858064793249932, labels[node_id]: 'can'\n",
      "ic| node_id: 3\n",
      "    rank: 0.02206335459191633\n",
      "    labels[node_id]: 'constraint'\n",
      "ic| node_id: 7\n",
      "    rank: 0.019060006636093224\n",
      "    labels[node_id]: 'criterion'\n",
      "ic| node_id: 6, rank: 0.018099415772355555, labels[node_id]: 'number'\n",
      "ic| node_id: 5, rank: 0.01809941577235555, labels[node_id]: 'natural'\n",
      "ic| node_id: 29, rank: 0.018092057150289068, labels[node_id]: 'solve'\n",
      "ic| node_id: 30, rank: 0.01611097985902083, labels[node_id]: 'mixed'\n",
      "ic| node_id: 23, rank: 0.010505124595345142, labels[node_id]: 'give'\n"
     ]
    }
   ],
   "source": [
    "for node_id, rank in sorted(ranks.items(), key=lambda x: x[1], reverse=True):\n",
    "    ic(node_id, rank, labels[node_id])"
   ]
  },
  {
   "cell_type": "markdown",
   "metadata": {},
   "source": [
    "Define a function to collect the top-ranked phrases from the lemma graph."
   ]
  },
  {
   "cell_type": "code",
   "execution_count": 15,
   "metadata": {},
   "outputs": [],
   "source": [
    "import math\n",
    "\n",
    "def collect_phrases (chunk, phrases, counts):\n",
    "    chunk_len = chunk.end - chunk.start\n",
    "    sq_sum_rank = 0.0\n",
    "    non_lemma = 0\n",
    "    compound_key = set([])\n",
    "\n",
    "    for i in range(chunk.start, chunk.end):\n",
    "        token = doc[i]\n",
    "        key = (token.lemma_, token.pos_)\n",
    "        \n",
    "        if key in seen_lemma:\n",
    "            node_id = list(seen_lemma.keys()).index(key)\n",
    "            rank = ranks[node_id]\n",
    "            sq_sum_rank += rank\n",
    "            compound_key.add(key)\n",
    "        \n",
    "            ic(token.lemma_, token.pos_, node_id, rank)\n",
    "        else:\n",
    "            non_lemma += 1\n",
    "    \n",
    "    # although the noun chunking is greedy, we discount the ranks using a\n",
    "    # point estimate based on the number of non-lemma tokens within a phrase\n",
    "    non_lemma_discount = chunk_len / (chunk_len + (2.0 * non_lemma) + 1.0)\n",
    "\n",
    "    # use root mean square (RMS) to normalize the contributions of all the tokens\n",
    "    phrase_rank = math.sqrt(sq_sum_rank / (chunk_len + non_lemma))\n",
    "    phrase_rank *= non_lemma_discount\n",
    "\n",
    "    # remove spurious punctuation\n",
    "    phrase = chunk.text.lower().replace(\"'\", \"\")\n",
    "\n",
    "    # create a unique key for the the phrase based on its lemma components\n",
    "    compound_key = tuple(sorted(list(compound_key)))\n",
    "    \n",
    "    if not compound_key in phrases:\n",
    "        phrases[compound_key] = set([ (phrase, phrase_rank) ])\n",
    "        counts[compound_key] = 1\n",
    "    else:\n",
    "        phrases[compound_key].add( (phrase, phrase_rank) )\n",
    "        counts[compound_key] += 1\n",
    "\n",
    "    ic(phrase_rank, chunk.text, chunk.start, chunk.end, chunk_len, counts[compound_key])"
   ]
  },
  {
   "cell_type": "markdown",
   "metadata": {},
   "source": [
    "Collect the top-ranked phrases based on both the noun chunks and the named entities..."
   ]
  },
  {
   "cell_type": "code",
   "execution_count": 16,
   "metadata": {
    "scrolled": true
   },
   "outputs": [
    {
     "name": "stderr",
     "output_type": "stream",
     "text": [
      "ic| token.lemma_: 'compatibility'\n",
      "    token.pos_: 'NOUN'\n",
      "    node_id: 0\n",
      "    rank: 0.024271712355906368\n",
      "ic| phrase_rank: 0.07789690679979913\n",
      "    chunk.text: 'Compatibility'\n",
      "    chunk.start: 0\n",
      "    chunk.end: 1\n",
      "    chunk_len: 1\n",
      "    counts[compound_key]: 1\n",
      "ic| token.lemma_: 'system'\n",
      "    token.pos_: 'NOUN'\n",
      "    node_id: 1\n",
      "    rank: 0.09333252040998133\n",
      "ic| phrase_rank: 0.15275185793467566\n",
      "    chunk.text: 'systems'\n",
      "    chunk.start: 2\n",
      "    chunk.end: 3\n",
      "    chunk_len: 1\n",
      "ic| token.lemma_: 'criterion'\n",
      "    token.pos_: 'NOUN'\n",
      "    node_id: 7\n",
      "    rank: 0.019060006636093224\n",
      "ic| phrase_rank: 0.06902899143854925\n",
      "    chunk.text: 'Criteria'\n",
      "    chunk.start: 13\n",
      "    chunk.end: 14\n",
      "    chunk_len: 1\n",
      "    counts[compound_key]: 1\n",
      "ic| token.lemma_: 'compatibility'\n",
      "    token.pos_: 'NOUN'\n",
      "    node_id: 0\n",
      "    rank: 0.024271712355906368\n",
      "ic| phrase_rank: 0.07789690679979913\n",
      "    chunk.text: 'compatibility'\n",
      "    chunk.start: 15\n",
      "    chunk.end: 16\n",
      "    chunk_len: 1\n",
      "    counts[compound_key]: 2\n",
      "ic| token.lemma_: 'system'\n",
      "    token.pos_: 'NOUN'\n",
      "    node_id: 1\n",
      "    rank: 0.09333252040998133\n",
      "ic| phrase_rank: 0.07055306103824037\n",
      "    chunk.text: 'a system'\n",
      "    chunk.start: 17\n",
      "    chunk.end: 19\n",
      "    chunk_len: 2\n",
      "    counts[compound_key]: 2\n",
      "ic| token.lemma_: 'linear'\n",
      "    token.pos_: 'ADJ'\n",
      "    node_id: 2\n",
      "    rank: 0.03523397804162026\n",
      "ic| token.lemma_: 'Diophantine'\n",
      "    token.pos_: 'PROPN'\n",
      "    node_id: 8\n",
      "    rank: 0.029808750669594285\n",
      "ic| token.lemma_: 'equation'\n",
      "    token.pos_: 'NOUN'\n",
      "    node_id: 9\n",
      "    rank: 0.03048048654757325\n",
      "ic| phrase_rank: 0.1338305004885759\n",
      "    chunk.text: 'linear Diophantine equations'\n",
      "    chunk.start: 20\n",
      "    chunk.end: 23\n",
      "    chunk_len: 3\n",
      "    counts[compound_key]: 1\n",
      "ic| token.lemma_: 'strict'\n",
      "    token.pos_: 'ADJ'\n",
      "    node_id: 10\n",
      "    rank: 0.024130822879014753\n",
      "ic| token.lemma_: 'inequation'\n",
      "    token.pos_: 'NOUN'\n",
      "    node_id: 11\n",
      "    rank: 0.038123234125218\n",
      "ic| phrase_rank: 0.11761902435333112\n",
      "    chunk.text: 'strict inequations'\n",
      "    chunk.start: 24\n",
      "    chunk.end: .text: 'Upper bounds'\n",
      "    chunk.start: 33\n",
      "    chunk.end: 35\n",
      "    chunk_len: 2\n",
      "    counts[compound_key]: 1\n",
      "ic| token.lemma_: 'component'\n",
      "    token.pos_: 'NOUN'\n",
      "    node_id: 16\n",
      "    rank: 0.03050388828323344\n",
      "ic| phrase_rank: 0.08732681186673633\n",
      "    chunk.text: 'components'\n",
      "    chunk.start: 36\n",
      "    chunk.end: 37\n",
      "    chunk_len: 1\n",
      "    counts[compound_key]: 1\n",
      "ic| token.lemma_: 'minimal'\n",
      "    token.pos_: 'ADJ'\n",
      "    node_id: 17\n",
      "    rank: 0.06065433220816629\n",
      "ic| token.lemma_: 'set'\n",
      "    token.pos_: 'NOUN'\n",
      "    node_id: 4\n",
      "    rank: 0.07861554068010741\n",
      "ic| phrase_rank: 0.09329719746871878\n",
      "    chunk.text: 'a minimal set'\n",
      "    chunk.start: 38\n",
      "    chunk.end: 41\n",
      "    chunk_len: 3\n",
      "    counts[compound_key]: 1\n",
      "ic| token.lemma_: 'solution'\n",
      "    token.pos_: 'NOUN'\n",
      "    node_id: 18\n",
      "    rank: 0.06478113357971631\n",
      "ic| phrase_rank: 0.12726069069013055\n",
      "    chunk.text: 'solutions'\n",
      "    chunk.start: 42\n",
      "    chunk.end: 43\n",
      "    chunk_len: 1\n",
      "    counts[compound_key]: 1\n",
      "ic| token.lemma_: 'algorithm'\n",
      "    token.pos_: 'NOUN'\n",
      "    node_id: 19\n",
      "    rank: 0.03068873921565539\n",
      "ic| phrase_rank: 0.08759100869332336\n",
      "    chunk.text: 'algorithms'\n",
      "    chunk.start: 44\n",
      "    chunk.end: 45\n",
      "    chunk_len: 1\n",
      "    counts[compound_key]: 1\n",
      "ic| token.lemma_: 'construction'\n",
      "    token.pos_: 'NOUN'\n",
      "    node_id: 20\n",
      "    rank: 0.02307689865072579\n",
      "ic| phrase_rank: 0.07595541233303554\n",
      "    chunk.text: 'construction'\n",
      "    chunk.start: 46\n",
      "    chunk.end: 47\n",
      "    chunk_len: 1\n",
      "    counts[compound_key]: 1\n",
      "ic| token.lemma_: 'minimal'\n",
      "    token.pos_: 'ADJ'\n",
      "    node_id: 17\n",
      "    rank: 0.06065433220816629\n",
      "ic| token.lemma_: 'generate'\n",
      "    token.pos_: 'VERB'\n",
      "    node_id: 21\n",
      "    rank: 0.028180619352715125\n",
      "ic| token.lemma_: 'set'\n",
      "    token.pos_: 'NOUN'\n",
      "    node_id: 4\n",
      "    rank: 0.07861554068010741\n",
      "ic| phrase_rank: 0.17719189398836901\n",
      "    chunk.text: 'minimal generating sets'\n",
      "    chunk.start: 48\n",
      "    chunk.end: 51\n",
      "    chunk_len: 3\n",
      "    counts[compound_key]: 1\n",
      "ic| token.lemma_: 'solution'\n",
      "    token.pos_: 'NOUN'\n",
      "    node_id: 18\n",
      "    rank: 0.06478113357971631\n",
      "ic| phrase_rank: 0.12726069069013055\n",
      "    chunk.text: 'solutions'\n",
      "    chunk.start: 52\n",
      "    chunk.end: 53\n",
      "    chunk_len: 1\n",
      "    counts[compound_key]: 2\n",
      "ic| token.lemma_: 'type'\n",
      "    token.pos_: 'NOUN'\n",
      "    node_id: 22\n",
      "    rank: 0.04616659117609875\n",
      "ic| phrase_rank: 0.04962074360646564\n",
      "    chunk.text: 'all types'\n",
      "    chunk.start: 54\n",
      "    chunk.end: 56\n",
      "    chunk_len: 2\n",
      "    counts[compound_key]: 1\n",
      "ic| token.lemma_: 'system'\n",
      "    token.pos_: 'NOUN'\n",
      "    node_id: 1\n",
      "    rank: 0.09333252040998133\n",
      "ic| phrase_rank: 0.15275185793467566\n",
      "    chunk.text: 'systems'\n",
      "    chunk.start: 57\n",
      "    chunk.end: 58\n",
      "    chunk_len: 1\n",
      "    counts[compound_key]: 3\n",
      "ic| token.lemma_: 'criterion'\n",
      "    token.pos_: 'NOUN'\n",
      "    node_id: 7\n",
      "    rank: 0.019060006636093224\n",
      "ic| phrase_rank: 0.031883125431147824\n",
      "    chunk.text: 'These criteria'\n",
      "    chunk.start: 61\n",
      "    chunk.end: 63\n",
      "    chunk_len: 2\n",
      "    counts[compound_key]: 2\n",
      "ic| token.lemma_: 'correspond'\n",
      "    token.pos_: 'VERB'\n",
      "    node_id: 24\n",
      "    rank: 0.025921063118458917\n",
      "ic| token.lemma_: 'algorithm'\n",
      "    token.pos_: 'NOUN'\n",
      "    node_id: 19\n",
      "    rank: 0.03068873921565539\n",
      "ic| phrase_rank: 0.05948203632931664\n",
      "    chunk.text: 'the corresponding algorithms'\n",
      "    chunk.start: 64\n",
      "    chunk.end: 67\n",
      "    chunk_len: 3\n",
      "    counts[compound_key]: 1\n",
      "ic| token.lemma_: 'minimal'\n",
      "    token.pos_: 'ADJ'\n",
      "    node_id: 17\n",
      "    rank: 0.06065433220816629\n",
      "ic| token.lemma_: 'support'\n",
      "    token.pos_: 'VERB'\n",
      "    node_id: 26\n",
      "    rank: 0.02810309146111207\n",
      "ic| token.lemma_: 'set'\n",
      "    token.pos_: 'NOUN'\n",
      "    node_id: 4\n",
      "    rank: 0.07861554068010741\n",
      "ic| phrase_rank: 0.10454893258398042\n",
      "    chunk.text: 'a minimal supporting set'\n",
      "    chunk.start: 69\n",
      "    chunk.end: 73\n",
      "    chunk_len: 4\n",
      "    counts[compound_key]: 1\n",
      "ic| token.lemma_: 'solution'\n",
      "    token.pos_: 'NOUN'\n",
      "    node_id: 18\n",
      "    rank: 0.06478113357971631\n",
      "ic| phrase_rank: 0.12726069069013055\n",
      "    chunk.text: 'solutions'\n",
      "    chunk.start: 74\n",
      "    chunk.end: 75\n",
      "    chunk_len: 1\n",
      "    counts[compound_key]: 3\n",
      "ic| token.lemma_: 'consider'\n",
      "    token.pos_: 'VERB'\n",
      "    node_id: 13\n",
      "    rank: 0.03711169419801581\n",
      "ic| token.lemma_: 'type'\n",
      "    token.pos_: 'NOUN'\n",
      "    node_id: 22\n",
      "    rank: 0.04616659117609875\n",
      "ic| token.lemma_: 'system'\n",
      "    token.pos_: 'NOUN'\n",
      "    node_id: 1\n",
      "    rank: 0.09333252040998133\n",
      "ic| phrase_rank: 0.07941995201461295\n",
      "    chunk.text: 'all the considered types systems'\n",
      "    chunk.start: 80\n",
      "    chunk.end: 85\n",
      "    chunk_len: 5\n",
      "    counts[compound_key]: 1\n",
      "ic| token.lemma_: 'system'\n",
      "    token.pos_: 'NOUN'\n",
      "    node_id: 1\n",
      "    rank: 0.09333252040998133\n",
      "ic| phrase_rank: 0.15275185793467566\n",
      "    chunk.text: 'systems'\n",
      "    chunk.start: 86\n",
      "    chunk.end: 87\n",
      "    chunk_len: 1\n",
      "    counts[compound_key]: 4\n",
      "ic| token.lemma_: 'mixed'\n",
      "    token.pos_: 'ADJ'\n",
      "    node_id: 30\n",
      "    rank: 0.01611097985902083\n",
      "ic| token.lemma_: 'type'\n",
      "    token.pos_: 'NOUN'\n",
      "    node_id: 22\n",
      "    rank: 0.04616659117609875\n",
      "ic| phrase_rank: 0.11764123524524286\n",
      "    chunk.text: 'mixed types'\n",
      "    chunk.start: 88\n",
      "    chunk.end: 90\n",
      "    chunk_len: 2\n",
      "    counts[compound_key]: 1\n"
     ]
    }
   ],
   "source": [
    "phrases = {}\n",
    "counts = {}\n",
    "\n",
    "for chunk in doc.noun_chunks:\n",
    "    collect_phrases(chunk, phrases, counts)\n",
    "\n",
    "for ent in doc.ents:\n",
    "    collect_phrases(ent, phrases, counts)"
   ]
  },
  {
   "cell_type": "markdown",
   "metadata": {},
   "source": [
    "Since noun chunks can be expressed in different ways (e.g., they may have articles or prepositions), we need to find a minimum span for each phrase based on combinations of lemmas..."
   ]
  },
  {
   "cell_type": "code",
   "execution_count": 17,
   "metadata": {},
   "outputs": [],
   "source": [
    "import operator\n",
    "\n",
    "min_phrases = {}\n",
    "\n",
    "for compound_key, rank_tuples in phrases.items():\n",
    "    l = list(rank_tuples)\n",
    "    l.sort(key=operator.itemgetter(1), reverse=True)\n",
    "    \n",
    "    phrase, rank = l[0]\n",
    "    count = counts[compound_key]\n",
    "    \n",
    "    min_phrases[phrase] = (rank, count)"
   ]
  },
  {
   "cell_type": "markdown",
   "metadata": {},
   "source": [
    "Yield the results of TextRank..."
   ]
  },
  {
   "cell_type": "code",
   "execution_count": 18,
   "metadata": {
    "scrolled": true
   },
   "outputs": [
    {
     "name": "stderr",
     "output_type": "stream",
     "text": [
      "ic| phrase: 'minimal generating sets'\n",
      "    count: 1\n",
      "    rank: 0.17719189398836901\n",
      "ic| phrase: 'systems', count: 4, rank: 0.15275185793467566\n",
      "ic| phrase: 'linear diophantine equations'\n",
      "    count: 1\n",
      "    rank: 0.1338305004885759\n",
      "ic| phrase: 'solutions', count: 3, rank: 0.12726069069013055\n",
      "ic| phrase: 'mixed types', count: 1, rank: 0.11764123524524286\n",
      "ic| phrase: 'strict inequations', count: 1, rank: 0.11761902435333112\n",
      "ic| phrase: 'nonstrict inequations'\n",
      "    count: 1\n",
      "    rank: 0.11759869622053988\n",
      "ic| phrase: 'linear constraints', count: 1, rank: 0.11283944605159293\n",
      "ic| phrase: 'a minimal supporting set'\n",
      "    count: 1\n",
      "    rank: 0.10454893258398042\n",
      "ic| phrase: 'upper bounds', count: 1, rank: 0.10209150732681506\n",
      "ic| phrase: 'a minimal set', count: 1, rank: 0.09329719746871878\n",
      "ic| phrase: 'natural numbers', count: 1, rank: 0.08968937945884997\n",
      "ic| phrase: 'algorithms', count: 1, rank: 0.08759100869332336\n",
      "ic| phrase: 'components', count: 1, rank: 0.08732681186673633\n",
      "ic| phrase: 'all the considered types systems'\n",
      "    count: 1\n",
      "    rank: 0.07941995201461295\n",
      "ic| phrase: 'compatibility', count: 2, rank: 0.07789690679979913\n",
      "ic| phrase: 'construction', count: 1, rank: 0.07595541233303554\n",
      "ic| phrase: 'criteria', count: 2, rank: 0.06902899143854925\n",
      "ic| phrase: 'the set', count: 1, rank: 0.06475205661809048\n",
      "ic| phrase: 'the corresponding algorithms'\n",
      "    count: 1\n",
      "    rank: 0.05948203632931664\n",
      "ic| phrase: 'all types', count: 1, rank: 0.04962074360646564\n"
     ]
    }
   ],
   "source": [
    "for phrase, (rank, count) in sorted(min_phrases.items(), key=lambda x: x[1][0], reverse=True):\n",
    "    ic(phrase, count, rank)"
   ]
  },
  {
   "cell_type": "markdown",
   "metadata": {},
   "source": [
    "Just for kicks, compare with raw results of the non-chunked lemma nodes..."
   ]
  },
  {
   "cell_type": "code",
   "execution_count": 19,
   "metadata": {
    "scrolled": true
   },
   "outputs": [
    {
     "name": "stderr",
     "output_type": "stream",
     "text": [
      "ic| labels[node_id]: 'system', rank: 0.09333252040998133\n",
      "ic| labels[node_id]: 'set', rank: 0.07861554068010741\n",
      "ic| labels[node_id]: 'solution', rank: 0.06478113357971631\n",
      "ic| labels[node_id]: 'minimal', rank: 0.06065433220816629\n",
      "ic| labels[node_id]: 'type', rank: 0.04616659117609875\n",
      "ic| labels[node_id]: 'inequation', rank: 0.038123234125218\n",
      "ic| labels[node_id]: 'consider', rank: 0.03711169419801581\n",
      "ic| labels[node_id]: 'linear', rank: 0.03523397804162026\n",
      "ic| labels[node_id]: 'algorithm', rank: 0.03068873921565539\n",
      "ic| labels[node_id]: 'component', rank: 0.03050388828323344\n",
      "ic| labels[node_id]: 'equation', rank: 0.03048048654757325\n",
      "ic| labels[node_id]: 'construct', rank: 0.030404750534637228\n",
      "ic| labels[node_id]: 'diophantine', rank: 0.029808750669594285\n",
      "ic| labels[node_id]: 'generate', rank: 0.028180619352715125\n",
      "ic| labels[node_id]: 'support', rank: 0.02810309146111207\n",
      "ic| labels[node_id]: 'correspond', rank: 0.025921063118458917\n",
      "ic| labels[node_id]: 'use', rank: 0.024510385972397564\n",
      "ic| labels[node_id]: 'compatibility', rank: 0.024271712355906368\n",
      "ic| labels[node_id]: 'strict', ic| labels[node_id]: 'can', rank: 0.022858064793249932\n",
      "ic| labels[node_id]: 'constraint', rank: 0.02206335459191633\n",
      "ic| labels[node_id]: 'criterion', rank: 0.019060006636093224\n",
      "ic| labels[node_id]: 'number', rank: 0.018099415772355555\n",
      "ic| labels[node_id]: 'natural', rank: 0.01809941577235555\n",
      "ic| labels[node_id]: 'solve', rank: 0.018092057150289068\n",
      "ic| labels[node_id]: 'mixed', rank: 0.01611097985902083\n",
      "ic| labels[node_id]: 'give', rank: 0.010505124595345142\n"
     ]
    }
   ],
   "source": [
    "for node_id, rank in sorted(ranks.items(), key=lambda x: x[1], reverse=True):\n",
    "    ic(labels[node_id], rank)"
   ]
  }
 ],
 "metadata": {
  "kernelspec": {
   "display_name": "Python 3",
   "language": "python",
   "name": "python3"
  },
  "language_info": {
   "codemirror_mode": {
    "name": "ipython",
    "version": 3
   },
   "file_extension": ".py",
   "mimetype": "text/x-python",
   "name": "python",
   "nbconvert_exporter": "python",
   "pygments_lexer": "ipython3",
   "version": "3.7.4"
  }
 },
 "nbformat": 4,
 "nbformat_minor": 4
}
