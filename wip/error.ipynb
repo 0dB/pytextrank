{
 "cells": [
  {
   "cell_type": "code",
   "execution_count": 1,
   "metadata": {},
   "outputs": [
    {
     "name": "stderr",
     "output_type": "stream",
     "text": [
      "Traceback (most recent call last):\n",
      "  File \"<ipython-input-1-649020afa446>\", line 13, in <module>\n",
      "    @spacy.language.Language.factory(\"my_component\", default_config={\"some_setting\": True})\n",
      "AttributeError: type object 'Language' has no attribute 'factory'\n"
     ]
    }
   ],
   "source": [
    "import inspect\n",
    "import sys\n",
    "import traceback\n",
    "\n",
    "import spacy\n",
    "import spacy.language\n",
    "\n",
    "try:\n",
    "    class MyComponent:\n",
    "        def __init__(self, some_setting):\n",
    "            print(\"got here\")\n",
    "\n",
    "    @spacy.language.Language.factory(\"my_component\", default_config={\"some_setting\": True})\n",
    "    def my_component(nlp, name, some_setting: bool):\n",
    "        return MyComponent(some_setting=some_setting)\n",
    "\n",
    "    nlp = spacy.blank(\"en\")\n",
    "    nlp.add_pipe(\"my_component\", config={\"some_setting\": False})\n",
    "except Exception:\n",
    "    traceback.print_exc()"
   ]
  },
  {
   "cell_type": "code",
   "execution_count": 2,
   "metadata": {},
   "outputs": [
    {
     "name": "stdout",
     "output_type": "stream",
     "text": [
      "\n",
      "## Info about spaCy\n",
      "\n",
      "- **spaCy version:** 3.0.5\n",
      "- **Platform:** Darwin-17.7.0-x86_64-i386-64bit\n",
      "- **Python version:** 3.7.9\n",
      "- **Pipelines:** en_core_web_sm (3.0.0)\n",
      "\n"
     ]
    }
   ],
   "source": [
    "!python -m spacy info --markdown"
   ]
  },
  {
   "cell_type": "code",
   "execution_count": 3,
   "metadata": {},
   "outputs": [
    {
     "data": {
      "text/plain": [
       "<Signature (vocab=True, make_doc=True, max_length=1000000, meta={}, **kwargs)>"
      ]
     },
     "execution_count": 3,
     "metadata": {},
     "output_type": "execute_result"
    }
   ],
   "source": [
    "sig = inspect.signature(spacy.language.Language)\n",
    "sig"
   ]
  },
  {
   "cell_type": "code",
   "execution_count": 4,
   "metadata": {
    "scrolled": true
   },
   "outputs": [
    {
     "name": "stdout",
     "output_type": "stream",
     "text": [
      "chardet.enums LanguageFilter <class 'chardet.enums.LanguageFilter'>\n",
      "<class 'type'>\n",
      "chardet.escprober LanguageFilter <class 'chardet.enums.LanguageFilter'>\n",
      "<class 'type'>\n",
      "chardet.universaldetector LanguageFilter <class 'chardet.enums.LanguageFilter'>\n",
      "<class 'type'>\n",
      "requests.packages.chardet.enums LanguageFilter <class 'chardet.enums.LanguageFilter'>\n",
      "<class 'type'>\n",
      "requests.packages.chardet.escprober LanguageFilter <class 'chardet.enums.LanguageFilter'>\n",
      "<class 'type'>\n",
      "requests.packages.chardet.universaldetector LanguageFilter <class 'chardet.enums.LanguageFilter'>\n",
      "<class 'type'>\n",
      "spacy language <module 'spacy.language' from '/opt/anaconda3/lib/python3.7/site-packages/spacy/language.py'>\n",
      "<class 'module'>\n",
      "spacy._ml masked_language_model <function masked_language_model at 0x10d67f7a0>\n",
      "<class 'function'>\n",
      "spacy.cli.converters.conll_ner2json MultiLanguage <class 'spacy.lang.xx.MultiLanguage'>\n",
      "<class 'type'>\n",
      "spacy.cli.pretrain masked_language_model <function masked_language_model at 0x10d67f7a0>\n",
      "<class 'function'>\n",
      "spacy.lang.xx Language <class 'spacy.language.Language'>\n",
      "<class 'type'>\n",
      "spacy.lang.xx MultiLanguage <class 'spacy.lang.xx.MultiLanguage'>\n",
      "<class 'type'>\n",
      "spacy.lang.xx MultiLanguageDefaults <class 'spacy.lang.xx.MultiLanguageDefaults'>\n",
      "<class 'type'>\n",
      "spacy.language Language <class 'spacy.language.Language'>\n",
      "<class 'type'>\n",
      "spacy.pipeline.pipes Language <class 'spacy.language.Language'>\n",
      "<class 'type'>\n",
      "spacy.pipeline.pipes masked_language_model <function masked_language_model at 0x10d67f7a0>\n",
      "<class 'function'>\n",
      "spacy.symbols LANGUAGE 389\n",
      "<class 'int'>\n",
      "spacy.util load_language_data <function load_language_data at 0x10d1d8710>\n",
      "<class 'function'>\n"
     ]
    },
    {
     "name": "stderr",
     "output_type": "stream",
     "text": [
      "Traceback (most recent call last):\n",
      "  File \"<ipython-input-4-06c1a9fe0246>\", line 5, in <module>\n",
      "    for mem_name, mem_obj in inspect.getmembers(mod_obj):\n",
      "  File \"/opt/anaconda3/lib/python3.7/inspect.py\", line 341, in getmembers\n",
      "    value = getattr(object, key)\n",
      "  File \"/opt/anaconda3/lib/python3.7/site-packages/urllib3/packages/six.py\", line 92, in __get__\n",
      "    result = self._resolve()\n",
      "  File \"/opt/anaconda3/lib/python3.7/site-packages/urllib3/packages/six.py\", line 115, in _resolve\n",
      "    return _import_module(self.mod)\n",
      "  File \"/opt/anaconda3/lib/python3.7/site-packages/urllib3/packages/six.py\", line 82, in _import_module\n",
      "    __import__(name)\n",
      "  File \"/opt/anaconda3/lib/python3.7/dbm/gnu.py\", line 3, in <module>\n",
      "    from _gdbm import *\n",
      "ModuleNotFoundError: No module named '_gdbm'\n",
      "Traceback (most recent call last):\n",
      "  File \"<ipython-input-4-06c1a9fe0246>\", line 5, in <module>\n",
      "    for mem_name, mem_obj in inspect.getmembers(mod_obj):\n",
      "  File \"/opt/anaconda3/lib/python3.7/inspect.py\", line 341, in getmembers\n",
      "    value = getattr(object, key)\n",
      "  File \"/opt/anaconda3/lib/python3.7/site-packages/six.py\", line 92, in __get__\n",
      "    result = self._resolve()\n",
      "  File \"/opt/anaconda3/lib/python3.7/site-packages/six.py\", line 115, in _resolve\n",
      "    return _import_module(self.mod)\n",
      "  File \"/opt/anaconda3/lib/python3.7/site-packages/six.py\", line 82, in _import_module\n",
      "    __import__(name)\n",
      "  File \"/opt/anaconda3/lib/python3.7/dbm/gnu.py\", line 3, in <module>\n",
      "    from _gdbm import *\n",
      "ModuleNotFoundError: No module named '_gdbm'\n",
      "Traceback (most recent call last):\n",
      "  File \"<ipython-input-4-06c1a9fe0246>\", line 5, in <module>\n",
      "    for mem_name, mem_obj in inspect.getmembers(mod_obj):\n",
      "  File \"/opt/anaconda3/lib/python3.7/inspect.py\", line 341, in getmembers\n",
      "    value = getattr(object, key)\n",
      "  File \"/opt/anaconda3/lib/python3.7/site-packages/urllib3/packages/six.py\", line 92, in __get__\n",
      "    result = self._resolve()\n",
      "  File \"/opt/anaconda3/lib/python3.7/site-packages/urllib3/packages/six.py\", line 115, in _resolve\n",
      "    return _import_module(self.mod)\n",
      "  File \"/opt/anaconda3/lib/python3.7/site-packages/urllib3/packages/six.py\", line 82, in _import_module\n",
      "    __import__(name)\n",
      "  File \"/opt/anaconda3/lib/python3.7/dbm/gnu.py\", line 3, in <module>\n",
      "    from _gdbm import *\n",
      "ModuleNotFoundError: No module named '_gdbm'\n"
     ]
    }
   ],
   "source": [
    "targets = []\n",
    "\n",
    "for mod_name, mod_obj in sorted(sys.modules.items()):\n",
    "    try:\n",
    "        for mem_name, mem_obj in inspect.getmembers(mod_obj):\n",
    "            if \"language\" in mem_name.lower():\n",
    "                print(mod_name, mem_name, mem_obj)\n",
    "                print(type(mem_obj))\n",
    "                \n",
    "                if mem_name is \"Language\":\n",
    "                    targets.append((mod_name, mem_name, mem_obj))\n",
    "    except Exception:\n",
    "        traceback.print_exc()"
   ]
  },
  {
   "cell_type": "code",
   "execution_count": 5,
   "metadata": {},
   "outputs": [
    {
     "data": {
      "text/plain": [
       "[('spacy.lang.xx', 'Language', spacy.language.Language),\n",
       " ('spacy.language', 'Language', spacy.language.Language),\n",
       " ('spacy.pipeline.pipes', 'Language', spacy.language.Language)]"
      ]
     },
     "execution_count": 5,
     "metadata": {},
     "output_type": "execute_result"
    }
   ],
   "source": [
    "targets"
   ]
  },
  {
   "cell_type": "code",
   "execution_count": 6,
   "metadata": {},
   "outputs": [
    {
     "name": "stdout",
     "output_type": "stream",
     "text": [
      "spacy.lang.xx Language <class 'spacy.language.Language'>\n",
      "False\n",
      "spacy.language Language <class 'spacy.language.Language'>\n",
      "False\n",
      "spacy.pipeline.pipes Language <class 'spacy.language.Language'>\n",
      "False\n"
     ]
    }
   ],
   "source": [
    "for mod_name, mem_name, mem_obj in targets:\n",
    "    print(mod_name, mem_name, mem_obj)\n",
    "    print(hasattr(mem_obj, \"factory\"))"
   ]
  }
 ],
 "metadata": {
  "kernelspec": {
   "display_name": "Python 3",
   "language": "python",
   "name": "python3"
  },
  "language_info": {
   "codemirror_mode": {
    "name": "ipython",
    "version": 3
   },
   "file_extension": ".py",
   "mimetype": "text/x-python",
   "name": "python",
   "nbconvert_exporter": "python",
   "pygments_lexer": "ipython3",
   "version": "3.7.4"
  }
 },
 "nbformat": 4,
 "nbformat_minor": 4
}
